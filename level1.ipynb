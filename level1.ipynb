{
 "cells": [
  {
   "cell_type": "markdown",
   "metadata": {},
   "source": [
    "# Python Tutorial: Level 1"
   ]
  },
  {
   "cell_type": "markdown",
   "metadata": {},
   "source": [
    "### For the OVGU Cognitive Neuroscience Master's course H.3: Projektseminar"
   ]
  },
  {
   "cell_type": "markdown",
   "metadata": {},
   "source": [
    "### Taught by Reshanne Ruhnau"
   ]
  },
  {
   "cell_type": "markdown",
   "metadata": {},
   "source": [
    "I would suggest following this course with the [Spyder environment](https://www.spyder-ide.org/) because it allows you to visualize your work nicely (and it has a familiar design if you are coming from MATLAB)."
   ]
  },
  {
   "cell_type": "markdown",
   "metadata": {},
   "source": [
    "### <a id='toc'>Table of Contents</a>"
   ]
  },
  {
   "cell_type": "markdown",
   "metadata": {},
   "source": [
    "[Level 1: Manipulating Variables](#level1)\n",
    "- [performing operations on variables](#opvar)\n",
    "- [performing operations on lists](#oplist)\n",
    "- [zipping](#zip)\n",
    "- [indexing](#index)\n",
    "- [slicing](#slice)\n",
    "\n",
    "[Level 1 Exercises](level1_exercises.ipynb)\n",
    "\n",
    "BACK TO [Level 0: A New Language](python_tutorial.ipynb)\n",
    "<br />ONWARD TO [Level 2: Conditionals and Loops](level2.ipynb)"
   ]
  },
  {
   "cell_type": "markdown",
   "metadata": {},
   "source": [
    "## <a id='level1'>Level 1: Manipulating Variables</a>"
   ]
  },
  {
   "cell_type": "markdown",
   "metadata": {},
   "source": [
    "First, let's create some variables to work with:"
   ]
  },
  {
   "cell_type": "code",
   "execution_count": 2,
   "metadata": {},
   "outputs": [],
   "source": [
    "subject_nr=2\n",
    "subject_name='sub2'"
   ]
  },
  {
   "cell_type": "markdown",
   "metadata": {},
   "source": [
    "You can perform <a id='opvar'>operations on variables</a>, and numerical variables can be used in operations just like regular numbers:"
   ]
  },
  {
   "cell_type": "code",
   "execution_count": 3,
   "metadata": {},
   "outputs": [
    {
     "name": "stdout",
     "output_type": "stream",
     "text": [
      "4\n",
      "4\n"
     ]
    }
   ],
   "source": [
    "print(subject_nr*2)\n",
    "print(subject_nr * subject_nr)"
   ]
  },
  {
   "cell_type": "markdown",
   "metadata": {},
   "source": [
    "Operations on text variables work a bit differently:"
   ]
  },
  {
   "cell_type": "code",
   "execution_count": 4,
   "metadata": {},
   "outputs": [
    {
     "name": "stdout",
     "output_type": "stream",
     "text": [
      "sub2sub2sub2sub2\n",
      "sub2sub2\n"
     ]
    }
   ],
   "source": [
    "print(subject_name * subject_nr * 2)\n",
    "print(subject_name + subject_name)"
   ]
  },
  {
   "cell_type": "markdown",
   "metadata": {},
   "source": [
    "If you want to see a space between text, you can simply add a space in quotations \" \":"
   ]
  },
  {
   "cell_type": "code",
   "execution_count": 5,
   "metadata": {},
   "outputs": [
    {
     "name": "stdout",
     "output_type": "stream",
     "text": [
      "sub2 sub2\n"
     ]
    }
   ],
   "source": [
    "print(subject_name + \" \" + subject_name)"
   ]
  },
  {
   "cell_type": "markdown",
   "metadata": {},
   "source": [
    "You can also add multiple spaces automatically with the multiplication operation. Note that if you want to use \"print\" to see your output, you have to add two sets of parentheses here: one around all the information to be multiplied (subject_name + \" \") and one around all the information to be printed ((subject_name + \" \") * 5):"
   ]
  },
  {
   "cell_type": "code",
   "execution_count": 6,
   "metadata": {},
   "outputs": [
    {
     "name": "stdout",
     "output_type": "stream",
     "text": [
      "sub2 sub2 sub2 sub2 sub2 \n"
     ]
    }
   ],
   "source": [
    "print((subject_name + \" \")*5)"
   ]
  },
  {
   "cell_type": "markdown",
   "metadata": {},
   "source": [
    "[TO THE VARIABLE OPERATIONS EXERCISES](#level1_exercises.ipynb#varop_ex)\n",
    "\n",
    "[BACK TO TABLE OF CONTENTS](#toc)"
   ]
  },
  {
   "cell_type": "markdown",
   "metadata": {},
   "source": [
    "You can also perform <a id='oplist'>operations on lists</a>:"
   ]
  },
  {
   "cell_type": "code",
   "execution_count": 19,
   "metadata": {},
   "outputs": [
    {
     "name": "stdout",
     "output_type": "stream",
     "text": [
      "[1, 2, 3, 4, 5, 'sub1', 'sub2', 'sub3', 'sub4', 'sub5']\n"
     ]
    }
   ],
   "source": [
    "subject_nrs = [1,2,3,4,5]\n",
    "subject_names = ['sub1','sub2','sub3','sub4','sub5']\n",
    "print(subject_nrs + subject_names)"
   ]
  },
  {
   "cell_type": "markdown",
   "metadata": {},
   "source": [
    "You can only use operations that make sense, like combining two lists with \"+\". If you try to multiply a list by a non-integer, python will throw an error:"
   ]
  },
  {
   "cell_type": "code",
   "execution_count": 7,
   "metadata": {},
   "outputs": [
    {
     "ename": "TypeError",
     "evalue": "can't multiply sequence by non-int of type 'list'",
     "output_type": "error",
     "traceback": [
      "\u001b[0;31m---------------------------------------------------------------------------\u001b[0m",
      "\u001b[0;31mTypeError\u001b[0m                                 Traceback (most recent call last)",
      "\u001b[0;32m<ipython-input-7-2e17d3ba3acf>\u001b[0m in \u001b[0;36m<module>\u001b[0;34m()\u001b[0m\n\u001b[0;32m----> 1\u001b[0;31m \u001b[0mprint\u001b[0m\u001b[0;34m(\u001b[0m\u001b[0msubject_nrs\u001b[0m \u001b[0;34m*\u001b[0m \u001b[0msubject_names\u001b[0m\u001b[0;34m)\u001b[0m\u001b[0;34m\u001b[0m\u001b[0m\n\u001b[0m",
      "\u001b[0;31mTypeError\u001b[0m: can't multiply sequence by non-int of type 'list'"
     ]
    }
   ],
   "source": [
    "print(subject_nrs * subject_names)"
   ]
  },
  {
   "cell_type": "markdown",
   "metadata": {},
   "source": [
    "However, you can multiply lists by an integer:"
   ]
  },
  {
   "cell_type": "code",
   "execution_count": 8,
   "metadata": {},
   "outputs": [
    {
     "name": "stdout",
     "output_type": "stream",
     "text": [
      "[1, 2, 3, 4, 5, 1, 2, 3, 4, 5, 1, 2, 3, 4, 5, 1, 2, 3, 4, 5, 1, 2, 3, 4, 5]\n"
     ]
    }
   ],
   "source": [
    "print(subject_nrs*5)"
   ]
  },
  {
   "cell_type": "markdown",
   "metadata": {},
   "source": [
    "You can also perform operations on lists with a variable, if the variable is an integer:"
   ]
  },
  {
   "cell_type": "code",
   "execution_count": 9,
   "metadata": {},
   "outputs": [
    {
     "ename": "NameError",
     "evalue": "name 'subject_nr' is not defined",
     "output_type": "error",
     "traceback": [
      "\u001b[0;31m---------------------------------------------------------------------------\u001b[0m",
      "\u001b[0;31mNameError\u001b[0m                                 Traceback (most recent call last)",
      "\u001b[0;32m<ipython-input-9-f2e483797462>\u001b[0m in \u001b[0;36m<module>\u001b[0;34m()\u001b[0m\n\u001b[0;32m----> 1\u001b[0;31m \u001b[0mprint\u001b[0m\u001b[0;34m(\u001b[0m\u001b[0msubject_nrs\u001b[0m\u001b[0;34m*\u001b[0m\u001b[0msubject_nr\u001b[0m\u001b[0;34m)\u001b[0m\u001b[0;34m\u001b[0m\u001b[0m\n\u001b[0m",
      "\u001b[0;31mNameError\u001b[0m: name 'subject_nr' is not defined"
     ]
    }
   ],
   "source": [
    "print(subject_nrs*subject_nr)"
   ]
  },
  {
   "cell_type": "markdown",
   "metadata": {},
   "source": [
    "There are many other ways of manipulating lists with built-in functions. For example:"
   ]
  },
  {
   "cell_type": "code",
   "execution_count": 20,
   "metadata": {},
   "outputs": [
    {
     "name": "stdout",
     "output_type": "stream",
     "text": [
      "[1, 2, 3, 5]\n",
      "[1, 2, 3, 5, 6]\n",
      "[1, 2, 3, 5, 6, 7, 8, 9]\n"
     ]
    }
   ],
   "source": [
    "subject_nrs.remove(4) #removes a value from a list \n",
    "print(subject_nrs)\n",
    "\n",
    "subject_nrs.append(6) #appends a new number to the end of the list\n",
    "print(subject_nrs)\n",
    "\n",
    "subject_nrs.extend([7,8,9]) #joins multiple lists together into 1 list\n",
    "print(subject_nrs)"
   ]
  },
  {
   "cell_type": "markdown",
   "metadata": {},
   "source": [
    "[TO THE LIST OPERATIONS EXERCISES](#level1_exercises.ipynb#listop_ex)\n",
    "\n",
    "[BACK TO TABLE OF CONTENTS](#toc)"
   ]
  },
  {
   "cell_type": "markdown",
   "metadata": {},
   "source": [
    "Let's go back to our original example of combining lists:"
   ]
  },
  {
   "cell_type": "code",
   "execution_count": 11,
   "metadata": {},
   "outputs": [
    {
     "name": "stdout",
     "output_type": "stream",
     "text": [
      "[1, 2, 3, 4, 5, 'sub1', 'sub2', 'sub3', 'sub4', 'sub5']\n"
     ]
    }
   ],
   "source": [
    "print(subject_nrs + subject_names)"
   ]
  },
  {
   "cell_type": "markdown",
   "metadata": {},
   "source": [
    "In this example, the subject number and subject name correspond to one another. So we might want to look at the two lists next to each other to make sure they match up. We can do this with <a id='zip'>zip</a>:"
   ]
  },
  {
   "cell_type": "code",
   "execution_count": 12,
   "metadata": {},
   "outputs": [
    {
     "name": "stdout",
     "output_type": "stream",
     "text": [
      "<zip object at 0x7f09f0584248>\n"
     ]
    }
   ],
   "source": [
    "print(zip(subject_nrs, subject_names))"
   ]
  },
  {
   "cell_type": "markdown",
   "metadata": {},
   "source": [
    "\"Zip\" is just like it sounds - it zips two or more lists together. In Python3, \"zip\" turns the lists into an iterable object instead of a mega-list, so you don't automatically get to see the output. To see the result of the zip, we have to turn the object into a list to see the output, using \"list\":"
   ]
  },
  {
   "cell_type": "code",
   "execution_count": 13,
   "metadata": {},
   "outputs": [
    {
     "name": "stdout",
     "output_type": "stream",
     "text": [
      "[(1, 'sub1'), (2, 'sub2'), (3, 'sub3'), (4, 'sub4'), (5, 'sub5')]\n"
     ]
    }
   ],
   "source": [
    "print(list(zip(subject_nrs, subject_names)))"
   ]
  },
  {
   "cell_type": "markdown",
   "metadata": {},
   "source": [
    "All lists that you zip should have the same length. If your lists are different lengths, zip will cut off items from the longer list to make them equal, and you don't want this to happen: "
   ]
  },
  {
   "cell_type": "code",
   "execution_count": 14,
   "metadata": {},
   "outputs": [
    {
     "name": "stdout",
     "output_type": "stream",
     "text": [
      "[(1, 21), (2, 33), (3, 20)]\n"
     ]
    }
   ],
   "source": [
    "subject_ages = [21, 33, 20]\n",
    "print(list(zip(subject_nrs, subject_ages)))"
   ]
  },
  {
   "cell_type": "markdown",
   "metadata": {},
   "source": [
    "Zip is very useful if you want to balance multiple experimental conditions. For example, say you have 2 directories for two categories of images ('faces','houses') and within each directory are 5 images per category ('im1.png','im2.png','im3.png','im4.png','im5.png'). You want to tell your experiment to go into the \"faces\" directory, find im1.png, and present it on the screen (and so on and so forth for all 10 trials). It's good to first create lists of all the images that will be shown on the different trials ahead of time, so you don't have to write in your experiment line by line \"First, go into the faces directory and show image 1. Second, go into the faces directory and show image 2...\" You can create two lists of all the faces and houses you will show ahead of time, and draw from that list during your experiment. Remember with \"zip\", lists must be of equal size, so we create our lists like this:"
   ]
  },
  {
   "cell_type": "code",
   "execution_count": 15,
   "metadata": {},
   "outputs": [
    {
     "name": "stdout",
     "output_type": "stream",
     "text": [
      "['faces', 'faces', 'faces', 'faces', 'faces', 'houses', 'houses', 'houses', 'houses', 'houses']\n",
      "['im1.png', 'im2.png', 'im3.png', 'im4.png', 'im5.png', 'im1.png', 'im2.png', 'im3.png', 'im4.png', 'im5.png']\n"
     ]
    }
   ],
   "source": [
    "cats = ['faces']*5 + ['houses']*5\n",
    "imgs = ['im1.png', 'im2.png', 'im3.png', 'im4.png', 'im5.png']*2\n",
    "print(cats)\n",
    "print(imgs)"
   ]
  },
  {
   "cell_type": "markdown",
   "metadata": {},
   "source": [
    "(There are easier ways of creating these lists with loops, but we will get to that in Level2.)"
   ]
  },
  {
   "cell_type": "code",
   "execution_count": 16,
   "metadata": {},
   "outputs": [
    {
     "name": "stdout",
     "output_type": "stream",
     "text": [
      "[('faces', 'im1.png'), ('faces', 'im2.png'), ('faces', 'im3.png'), ('faces', 'im4.png'), ('faces', 'im5.png'), ('houses', 'im1.png'), ('houses', 'im2.png'), ('houses', 'im3.png'), ('houses', 'im4.png'), ('houses', 'im5.png')]\n"
     ]
    }
   ],
   "source": [
    "catimgs = list(zip(cats,imgs))\n",
    "print(catimgs)"
   ]
  },
  {
   "cell_type": "markdown",
   "metadata": {},
   "source": [
    "So now we have 1 zipped list of tuples. If you check the length of the list, you can see that python considers each tuple as a single item:"
   ]
  },
  {
   "cell_type": "code",
   "execution_count": 17,
   "metadata": {},
   "outputs": [
    {
     "name": "stdout",
     "output_type": "stream",
     "text": [
      "10\n"
     ]
    }
   ],
   "source": [
    "print(len(catimgs))"
   ]
  },
  {
   "cell_type": "markdown",
   "metadata": {},
   "source": [
    "So you have 10 tuples, each pointing toward the directory name and image number you want to present for a separate trial. The first string in the tuple is the name of the directory you want to point your experiment to, and the second string is the name of the image inside that directory that you want to show. By the way, when you are counterbalancing conditions, it is good to first define everything in a nice order, like the lists shown above. However, once you have ensured all your conditions are balanced, you will want to randomize the order for the actual experiment. You can randomize a zipped list with the numpy function \"random\" like this:"
   ]
  },
  {
   "cell_type": "code",
   "execution_count": 18,
   "metadata": {},
   "outputs": [
    {
     "name": "stdout",
     "output_type": "stream",
     "text": [
      "[('faces', 'im1.png'), ('houses', 'im4.png'), ('faces', 'im5.png'), ('houses', 'im2.png'), ('faces', 'im3.png'), ('houses', 'im5.png'), ('houses', 'im3.png'), ('faces', 'im4.png'), ('houses', 'im1.png'), ('faces', 'im2.png')]\n"
     ]
    }
   ],
   "source": [
    "import numpy as np\n",
    "np.random.shuffle(catimgs)\n",
    "print(catimgs)"
   ]
  },
  {
   "cell_type": "markdown",
   "metadata": {},
   "source": [
    "The \"shuffle\" function shuffles the order of tuples in a list, without shuffling the strings within each tuple. This is important -- although you want to shuffle the order of conditions, you don't want to mess up the specific directory-image pairs you have defined previously. "
   ]
  },
  {
   "cell_type": "markdown",
   "metadata": {},
   "source": [
    "[TO THE ZIPPING EXERCISES](#level1_exercises.ipynb#zip_ex)\n",
    "\n",
    "[BACK TO TABLE OF CONTENTS](#toc)"
   ]
  },
  {
   "cell_type": "markdown",
   "metadata": {},
   "source": [
    "Now you have your shuffled list. So how do we tell the experiment which string in each tuple is the directory and which is the image number? We have to use  <a id='index'>indexing</a>. To find the index of an item in a list, use square brackets [ ]:"
   ]
  },
  {
   "cell_type": "code",
   "execution_count": 19,
   "metadata": {},
   "outputs": [
    {
     "name": "stdout",
     "output_type": "stream",
     "text": [
      "('faces', 'im1.png')\n"
     ]
    }
   ],
   "source": [
    "print(catimgs[0])"
   ]
  },
  {
   "cell_type": "markdown",
   "metadata": {},
   "source": [
    "Remember that python indexing starts at 0. Printing catimgs[0] finds the first tuple in the list. To select the first string in the first tuple, you use the square brackets twice: the first is the index of the tuple in the list, and the second is the index of the string in the tuple. The syntax looks like this:"
   ]
  },
  {
   "cell_type": "code",
   "execution_count": 20,
   "metadata": {},
   "outputs": [
    {
     "name": "stdout",
     "output_type": "stream",
     "text": [
      "faces\n"
     ]
    }
   ],
   "source": [
    "print(catimgs[0][0])"
   ]
  },
  {
   "cell_type": "markdown",
   "metadata": {},
   "source": [
    "You can also print the second string in the first tuple:"
   ]
  },
  {
   "cell_type": "code",
   "execution_count": 21,
   "metadata": {},
   "outputs": [
    {
     "name": "stdout",
     "output_type": "stream",
     "text": [
      "im1.png\n"
     ]
    }
   ],
   "source": [
    "print(catimgs[0][1])"
   ]
  },
  {
   "cell_type": "markdown",
   "metadata": {},
   "source": [
    "But if you accidentally try to access a non-existent third string in the tuple..."
   ]
  },
  {
   "cell_type": "code",
   "execution_count": 22,
   "metadata": {},
   "outputs": [
    {
     "ename": "IndexError",
     "evalue": "tuple index out of range",
     "output_type": "error",
     "traceback": [
      "\u001b[0;31m---------------------------------------------------------------------------\u001b[0m",
      "\u001b[0;31mIndexError\u001b[0m                                Traceback (most recent call last)",
      "\u001b[0;32m<ipython-input-22-a4ce9097b071>\u001b[0m in \u001b[0;36m<module>\u001b[0;34m()\u001b[0m\n\u001b[0;32m----> 1\u001b[0;31m \u001b[0mprint\u001b[0m\u001b[0;34m(\u001b[0m\u001b[0mcatimgs\u001b[0m\u001b[0;34m[\u001b[0m\u001b[0;36m0\u001b[0m\u001b[0;34m]\u001b[0m\u001b[0;34m[\u001b[0m\u001b[0;36m2\u001b[0m\u001b[0;34m]\u001b[0m\u001b[0;34m)\u001b[0m\u001b[0;34m\u001b[0m\u001b[0m\n\u001b[0m",
      "\u001b[0;31mIndexError\u001b[0m: tuple index out of range"
     ]
    }
   ],
   "source": [
    "print(catimgs[0][2])"
   ]
  },
  {
   "cell_type": "markdown",
   "metadata": {},
   "source": [
    "...python tells you the index is out of range. If you get an error like this, it means you tried to access an index that is out of the range of items you have in your tuple."
   ]
  },
  {
   "cell_type": "markdown",
   "metadata": {},
   "source": [
    "You can even find the index of individual letters that appear in a string:"
   ]
  },
  {
   "cell_type": "code",
   "execution_count": 23,
   "metadata": {},
   "outputs": [
    {
     "name": "stdout",
     "output_type": "stream",
     "text": [
      "f\n"
     ]
    }
   ],
   "source": [
    "print(catimgs[0][0][0])"
   ]
  },
  {
   "cell_type": "markdown",
   "metadata": {},
   "source": [
    "If you want to print the last letter in the string but don't want to bother counting the letters:"
   ]
  },
  {
   "cell_type": "code",
   "execution_count": 24,
   "metadata": {},
   "outputs": [
    {
     "name": "stdout",
     "output_type": "stream",
     "text": [
      "s\n"
     ]
    }
   ],
   "source": [
    "print(catimgs[0][0][-1])"
   ]
  },
  {
   "cell_type": "markdown",
   "metadata": {},
   "source": [
    "Using the minus sign, you can index backwards from the end of the string. So you can also print the second to last letter like this:"
   ]
  },
  {
   "cell_type": "code",
   "execution_count": 25,
   "metadata": {},
   "outputs": [
    {
     "name": "stdout",
     "output_type": "stream",
     "text": [
      "e\n"
     ]
    }
   ],
   "source": [
    "print(catimgs[0][0][-2])"
   ]
  },
  {
   "cell_type": "markdown",
   "metadata": {},
   "source": [
    "So to summarize:"
   ]
  },
  {
   "cell_type": "code",
   "execution_count": 27,
   "metadata": {},
   "outputs": [
    {
     "name": "stdout",
     "output_type": "stream",
     "text": [
      "('faces', 'im1.png')\n",
      "faces\n",
      "f\n"
     ]
    }
   ],
   "source": [
    "print(catimgs[0]) #level 1 indexing\n",
    "print(catimgs[0][0]) #level 2 indexing\n",
    "print(catimgs[0][0][0]) #level 3 indexing"
   ]
  },
  {
   "cell_type": "markdown",
   "metadata": {},
   "source": [
    "Finally, let's go back to our list of subject_nrs, which is now a list of numbers 1-9, but with the 4 removed:"
   ]
  },
  {
   "cell_type": "code",
   "execution_count": 23,
   "metadata": {},
   "outputs": [
    {
     "name": "stdout",
     "output_type": "stream",
     "text": [
      "[1, 2, 3, 4, 5, 6, 7, 8, 9]\n"
     ]
    }
   ],
   "source": [
    "print(subject_nrs)"
   ]
  },
  {
   "cell_type": "markdown",
   "metadata": {},
   "source": [
    "Say we want to put the 4 back into the list. We can do this with a built-in python function called \"insert\" that takes 2 arguments: 1.) the index, and 2.) the value you want to insert at that index. Like this:"
   ]
  },
  {
   "cell_type": "code",
   "execution_count": 24,
   "metadata": {},
   "outputs": [
    {
     "name": "stdout",
     "output_type": "stream",
     "text": [
      "[1, 2, 3, 4, 4, 5, 6, 7, 8, 9]\n"
     ]
    }
   ],
   "source": [
    "subject_nrs.insert(3,4) #insert(index,value) - remember python indexing starts at 0\n",
    "print(subject_nrs)"
   ]
  },
  {
   "cell_type": "markdown",
   "metadata": {},
   "source": [
    "[TO THE INDEXING EXERCISES](#level1_exercises.ipynb#index_ex)\n",
    "\n",
    "[BACK TO TABLE OF CONTENTS](#toc)"
   ]
  },
  {
   "cell_type": "markdown",
   "metadata": {},
   "source": [
    "If you want to access multiple indices at once, you can use <a id='slice'>slicing</a>. Slicing is exactly what it sounds like -- it slices the item using a colon : . You can also define with an index where you want to start or end the slice. First, let's define a new string variable to demonstrate how to slice:"
   ]
  },
  {
   "cell_type": "code",
   "execution_count": 1,
   "metadata": {},
   "outputs": [
    {
     "name": "stdout",
     "output_type": "stream",
     "text": [
      "i love python\n",
      "i l\n",
      "ove python\n",
      "ove\n"
     ]
    }
   ],
   "source": [
    "slicy = 'i love python'\n",
    "\n",
    "print(slicy[:]) #print the entire slice\n",
    "print(slicy[:3]) #print a slice up until index 3\n",
    "print(slicy[3:]) #start at index 3 and print the rest of the slice\n",
    "print(slicy[3:6]) #start at index 3 and print until index 6"
   ]
  },
  {
   "cell_type": "markdown",
   "metadata": {},
   "source": [
    "You can also slice in steps (similar to \"arange\" which we learned in level 0). The syntax for this is [start:stop:step] :"
   ]
  },
  {
   "cell_type": "code",
   "execution_count": 2,
   "metadata": {},
   "outputs": [
    {
     "name": "stdout",
     "output_type": "stream",
     "text": [
      "lv y\n"
     ]
    }
   ],
   "source": [
    "print(slicy[2:10:2])"
   ]
  },
  {
   "cell_type": "markdown",
   "metadata": {},
   "source": [
    "This means, start with the character with an index of 2 \"o\" and print every other character (step=2) up to the character with an index of 10."
   ]
  },
  {
   "cell_type": "markdown",
   "metadata": {},
   "source": [
    "You can also just tell python to start at the beginning \":\" and end at the end \":\", but print every other letter:"
   ]
  },
  {
   "cell_type": "code",
   "execution_count": 3,
   "metadata": {},
   "outputs": [
    {
     "name": "stdout",
     "output_type": "stream",
     "text": [
      "ilv yhn\n"
     ]
    }
   ],
   "source": [
    "print(slicy[::2])"
   ]
  },
  {
   "cell_type": "markdown",
   "metadata": {},
   "source": [
    "You can also print the whole string backwards by using \"-1\" as the step:"
   ]
  },
  {
   "cell_type": "code",
   "execution_count": 5,
   "metadata": {},
   "outputs": [
    {
     "name": "stdout",
     "output_type": "stream",
     "text": [
      "nohtyp evol i\n"
     ]
    }
   ],
   "source": [
    "print(slicy[::-1])"
   ]
  },
  {
   "cell_type": "markdown",
   "metadata": {},
   "source": [
    "In this case, the syntax means \"start at the end, and end at the beginning, going backwards by 1 character each step\"."
   ]
  },
  {
   "cell_type": "markdown",
   "metadata": {},
   "source": [
    "[TO THE SLICING EXERCISES](#level1_exercises.ipynb#slice_ex)\n",
    "\n",
    "[BACK TO TABLE OF CONTENTS](#toc)"
   ]
  }
 ],
 "metadata": {
  "kernelspec": {
   "display_name": "Python 3",
   "language": "python",
   "name": "python3"
  },
  "language_info": {
   "codemirror_mode": {
    "name": "ipython",
    "version": 3
   },
   "file_extension": ".py",
   "mimetype": "text/x-python",
   "name": "python",
   "nbconvert_exporter": "python",
   "pygments_lexer": "ipython3",
   "version": "3.4.2"
  }
 },
 "nbformat": 4,
 "nbformat_minor": 2
}
