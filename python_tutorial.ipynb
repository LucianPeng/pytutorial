{
 "cells": [
  {
   "cell_type": "markdown",
   "metadata": {},
   "source": [
    "# Python Tutorial: Level 0"
   ]
  },
  {
   "cell_type": "markdown",
   "metadata": {},
   "source": [
    "### For the OVGU Cognitive Neuroscience Master's course H.3: Projektseminar"
   ]
  },
  {
   "cell_type": "markdown",
   "metadata": {},
   "source": [
    "### Taught by Reshanne Ruhnau"
   ]
  },
  {
   "cell_type": "markdown",
   "metadata": {},
   "source": [
    "I would suggest following this course with the [Spyder environment](https://www.spyder-ide.org/) because it allows you to visualize your work nicely (and it has a familiar design if you are coming from MATLAB)."
   ]
  },
  {
   "cell_type": "markdown",
   "metadata": {},
   "source": [
    "### <a id='toc'>Table of Contents</a>"
   ]
  },
  {
   "cell_type": "markdown",
   "metadata": {},
   "source": [
    "[Level 0: A New Language](#level0)\n",
    "\n",
    "- [print](#print)\n",
    "- [operations](#operations)\n",
    "- [variables](#variables) \n",
    "- [booleans](#booleans) and [boolean operators](#boolop)\n",
    "- [lists](#lists)\n",
    "- [dictionaries](#dicts)\n",
    "- [arrays](#arrays)\n",
    "\n",
    "[Level 0 Exercises](level0_exercises.ipynb)\n",
    "\n",
    "ONWARD TO [Level 1: Manipulating Variables](level1.ipynb)\n"
   ]
  },
  {
   "cell_type": "markdown",
   "metadata": {},
   "source": [
    "## <a id='level0'>Level 0: A New Language</a>"
   ]
  },
  {
   "cell_type": "markdown",
   "metadata": {},
   "source": [
    "Before you can start programming your own experiment, you have to be comfortable with a syntax and grammar that computers can understand. If you are completely unfamiliar to programming, you're in luck! Python is a relatively easy language to learn. \n",
    "\n",
    "Let's begin with the <a id='print'>print</a> function:"
   ]
  },
  {
   "cell_type": "code",
   "execution_count": 1,
   "metadata": {},
   "outputs": [
    {
     "name": "stdout",
     "output_type": "stream",
     "text": [
      "I love python!\n"
     ]
    }
   ],
   "source": [
    "print(\"I love python!\")"
   ]
  },
  {
   "cell_type": "markdown",
   "metadata": {},
   "source": [
    "As of Python3, you have to put your text (called a string) in parentheses, or else it throws an error, like this:"
   ]
  },
  {
   "cell_type": "code",
   "execution_count": 2,
   "metadata": {},
   "outputs": [
    {
     "ename": "SyntaxError",
     "evalue": "Missing parentheses in call to 'print' (<ipython-input-2-000ed96e6fe9>, line 1)",
     "output_type": "error",
     "traceback": [
      "\u001b[0;36m  File \u001b[0;32m\"<ipython-input-2-000ed96e6fe9>\"\u001b[0;36m, line \u001b[0;32m1\u001b[0m\n\u001b[0;31m    print \"I love python!\"\u001b[0m\n\u001b[0m                         ^\u001b[0m\n\u001b[0;31mSyntaxError\u001b[0m\u001b[0;31m:\u001b[0m Missing parentheses in call to 'print'\n"
     ]
    }
   ],
   "source": [
    "print \"I love python!\""
   ]
  },
  {
   "cell_type": "markdown",
   "metadata": {},
   "source": [
    "At least python will tell you where you screwed up most of the time."
   ]
  },
  {
   "cell_type": "markdown",
   "metadata": {},
   "source": [
    "You can use single quotations or double quotations to write text to the screen, but you will also get an error if you forget to put your text in quotations:"
   ]
  },
  {
   "cell_type": "code",
   "execution_count": 1,
   "metadata": {},
   "outputs": [
    {
     "ename": "SyntaxError",
     "evalue": "invalid syntax (<ipython-input-1-7131d36d4760>, line 1)",
     "output_type": "error",
     "traceback": [
      "\u001b[0;36m  File \u001b[0;32m\"<ipython-input-1-7131d36d4760>\"\u001b[0;36m, line \u001b[0;32m1\u001b[0m\n\u001b[0;31m    print(I love python!)\u001b[0m\n\u001b[0m               ^\u001b[0m\n\u001b[0;31mSyntaxError\u001b[0m\u001b[0;31m:\u001b[0m invalid syntax\n"
     ]
    }
   ],
   "source": [
    "print(I love python!)"
   ]
  },
  {
   "cell_type": "markdown",
   "metadata": {},
   "source": [
    "[TO THE PRINT EXERCISES](level0_exercises.ipynb#print_ex)\n",
    "\n",
    "[BACK TO TABLE OF CONTENTS](#toc)"
   ]
  },
  {
   "cell_type": "markdown",
   "metadata": {},
   "source": [
    "Python can do all kind of basic mathematical <a id='operations'>operations</a>, such as:"
   ]
  },
  {
   "cell_type": "code",
   "execution_count": null,
   "metadata": {},
   "outputs": [],
   "source": [
    "print(1 + 1) #addition\n",
    "print(7 - 4) #subtraction\n",
    "print(10.0 / 2.0) #division (NOTE: if you do not want to round to the nearest whole number, \n",
    "                  #use floats instead of integers)\n",
    "print(7 % 9) #modulo\n",
    "print(11 * 1) #multiplication\n",
    "print(2 ** 4) #exponentiation\n"
   ]
  },
  {
   "cell_type": "markdown",
   "metadata": {},
   "source": [
    "Notice that the \"#\" symbol is what you can use to comment your script. Comments are your notes, usually telling you what a line means or why you wrote it. Anything following \"#\" (on the same line) will be ignored when you run your script. *It is very important to always comment your script!!*"
   ]
  },
  {
   "cell_type": "markdown",
   "metadata": {},
   "source": [
    "You don't need spaces between individual symbols:"
   ]
  },
  {
   "cell_type": "code",
   "execution_count": null,
   "metadata": {},
   "outputs": [],
   "source": [
    "print(7-4)"
   ]
  },
  {
   "cell_type": "markdown",
   "metadata": {},
   "source": [
    "[TO THE OPERATIONS EXERCISES](level0_exercises.ipynb#oper_ex)\n",
    "\n",
    "[BACK TO TABLE OF CONTENTS](#toc)"
   ]
  },
  {
   "cell_type": "markdown",
   "metadata": {},
   "source": [
    "An important part of python is the <a id='variables'>variable</a>, which allows you to categorize your data with different labels. A simple variable can contain a single value (number or text):"
   ]
  },
  {
   "cell_type": "code",
   "execution_count": 3,
   "metadata": {},
   "outputs": [],
   "source": [
    "subject_nr = 2\n",
    "subject_name = 'sub2'"
   ]
  },
  {
   "cell_type": "markdown",
   "metadata": {},
   "source": [
    "Variables do not automatically show up in your output without \"print\". You can print variables in different ways:"
   ]
  },
  {
   "cell_type": "code",
   "execution_count": 4,
   "metadata": {},
   "outputs": [
    {
     "name": "stdout",
     "output_type": "stream",
     "text": [
      "2\n",
      "sub2\n",
      "sub2 2\n",
      "2 2 2\n"
     ]
    }
   ],
   "source": [
    "print(subject_nr)\n",
    "print(subject_name)\n",
    "print(subject_name,subject_nr)\n",
    "print(subject_nr,subject_nr,subject_nr)"
   ]
  },
  {
   "cell_type": "markdown",
   "metadata": {},
   "source": [
    "Once a variable is assigned in a script, it is remembered until you close your session. When you are programming an experiment, you can call a single variable multiple times throughout your script. You can also reassign a variable:"
   ]
  },
  {
   "cell_type": "code",
   "execution_count": 5,
   "metadata": {},
   "outputs": [
    {
     "name": "stdout",
     "output_type": "stream",
     "text": [
      "3\n"
     ]
    }
   ],
   "source": [
    "subject_nr = 3\n",
    "print(subject_nr)"
   ]
  },
  {
   "cell_type": "markdown",
   "metadata": {},
   "source": [
    "Reassigning a variable can be very useful, for example, when you want to cycle through experimental trials (trial=1, trial=2, etc.). Be careful that you don't reassign variables accidentally, and always give your variables sensical names.\n",
    "\n",
    "[TO THE VARIABLE EXERCISES](level0_exercises.ipynb#var_ex)\n",
    "\n",
    "[BACK TO TABLE OF CONTENTS](#toc)"
   ]
  },
  {
   "cell_type": "markdown",
   "metadata": {},
   "source": [
    "Your variable can also be a <a id='booleans'>boolean</a>, which is a truth value (True or False):"
   ]
  },
  {
   "cell_type": "code",
   "execution_count": 6,
   "metadata": {},
   "outputs": [
    {
     "name": "stdout",
     "output_type": "stream",
     "text": [
      "False\n"
     ]
    }
   ],
   "source": [
    "fullscreen = False\n",
    "print(fullscreen)"
   ]
  },
  {
   "cell_type": "markdown",
   "metadata": {},
   "source": [
    "Booleans are useful for letting your experiment know whether to go on depending on if certain conditions are met. For example, you can program the experiment so that it must be in fullscreen mode to begin. To check whether you are in fullscreen mode, you can use the comparison operator \"==\" (\"is equal to\"):"
   ]
  },
  {
   "cell_type": "code",
   "execution_count": 7,
   "metadata": {},
   "outputs": [
    {
     "data": {
      "text/plain": [
       "False"
      ]
     },
     "execution_count": 7,
     "metadata": {},
     "output_type": "execute_result"
    }
   ],
   "source": [
    "print(fullscreen == True)"
   ]
  },
  {
   "cell_type": "markdown",
   "metadata": {},
   "source": [
    "\"fullscreen == True\", in plain English, means: \"Are we in fullscreen mode?\" The program's answer is, \"Nah\"."
   ]
  },
  {
   "cell_type": "markdown",
   "metadata": {},
   "source": [
    "You can also check the truth value of a variable using boolean expressions: == < > <= >= !=:"
   ]
  },
  {
   "cell_type": "code",
   "execution_count": 8,
   "metadata": {},
   "outputs": [
    {
     "name": "stdout",
     "output_type": "stream",
     "text": [
      "False\n",
      "False\n",
      "True\n",
      "False\n"
     ]
    }
   ],
   "source": [
    "print(3 == 4)\n",
    "print(4 < 3)\n",
    "print(3 <= 3)\n",
    "print(3 != 3)"
   ]
  },
  {
   "cell_type": "markdown",
   "metadata": {},
   "source": [
    "In this case, you are asking, \"Is 3 equal to 4?\", \"Is 4 less than 3?\", \"Is 3 less than or equal to 3?\", \"Is 3 not equal to 3?\""
   ]
  },
  {
   "cell_type": "markdown",
   "metadata": {},
   "source": [
    "Booleans also have <a id='boolop'>operators</a> (and, or, not) that can be useful for experiments:"
   ]
  },
  {
   "cell_type": "markdown",
   "metadata": {},
   "source": [
    "Let's start with <b>and</b>:"
   ]
  },
  {
   "cell_type": "code",
   "execution_count": 9,
   "metadata": {},
   "outputs": [
    {
     "name": "stdout",
     "output_type": "stream",
     "text": [
      "False\n"
     ]
    }
   ],
   "source": [
    "print(3 > 2 and 1 > 2)"
   ]
  },
  {
   "cell_type": "markdown",
   "metadata": {},
   "source": [
    "In this case, you are asking \"Are both statements true?\" The \"and\" operator requires both statements to be true to get a \"True\" output. Compare this to <b>or</b>:"
   ]
  },
  {
   "cell_type": "code",
   "execution_count": 10,
   "metadata": {},
   "outputs": [
    {
     "name": "stdout",
     "output_type": "stream",
     "text": [
      "True\n"
     ]
    }
   ],
   "source": [
    "print(3 > 2 or 1 > 2)"
   ]
  },
  {
   "cell_type": "markdown",
   "metadata": {},
   "source": [
    "The \"or\" operator only needs one of the statements to be true to get a \"True\" output. Here we are asking, \"Is at least one of the statements true?\""
   ]
  },
  {
   "cell_type": "markdown",
   "metadata": {},
   "source": [
    "Finally, we have <b>not</b>:"
   ]
  },
  {
   "cell_type": "code",
   "execution_count": 11,
   "metadata": {},
   "outputs": [
    {
     "name": "stdout",
     "output_type": "stream",
     "text": [
      "False\n",
      "True\n"
     ]
    }
   ],
   "source": [
    "print(1 > 2)\n",
    "print(not 1 > 2)"
   ]
  },
  {
   "cell_type": "markdown",
   "metadata": {},
   "source": [
    "With \"not\", we are asking \"Is 1 > 2 not true?\" The answer? True!"
   ]
  },
  {
   "cell_type": "markdown",
   "metadata": {},
   "source": [
    "You can also use combined operators, such as <b>and not</b>:"
   ]
  },
  {
   "cell_type": "code",
   "execution_count": 31,
   "metadata": {},
   "outputs": [
    {
     "name": "stdout",
     "output_type": "stream",
     "text": [
      "True\n"
     ]
    }
   ],
   "source": [
    "print(3 > 2 and not 1 > 2)"
   ]
  },
  {
   "cell_type": "markdown",
   "metadata": {},
   "source": [
    "Here you are asking, \"Is 3 greater than 2 and 1 is not greater than 2?\""
   ]
  },
  {
   "cell_type": "markdown",
   "metadata": {},
   "source": [
    "[TO THE BOOLEAN EXERCISES](level0_exercises.ipynb#bool_ex)\n",
    "\n",
    "[BACK TO TABLE OF CONTENTS](#toc)"
   ]
  },
  {
   "cell_type": "markdown",
   "metadata": {},
   "source": [
    "Variables can be composed of several values, which can be expressed as a <a id='lists'>list</a>. Lists are contained in square brackets [ ] and individual items are always separated by commas:"
   ]
  },
  {
   "cell_type": "code",
   "execution_count": 12,
   "metadata": {},
   "outputs": [
    {
     "name": "stdout",
     "output_type": "stream",
     "text": [
      "[1, 2, 3, 4, 5]\n",
      "['sub1', 'sub2', 'sub3', 'sub4', 'sub5']\n",
      "[3, 'yes', '1.0', True]\n",
      "my_exp\n"
     ]
    }
   ],
   "source": [
    "subject_nrs = [1,2,3,4,5]\n",
    "subject_names = ['sub1','sub2','sub3','sub4','sub5']\n",
    "responses = [3, 'yes', '1.0', True]\n",
    "exp = 'my_exp'\n",
    "\n",
    "print(subject_nrs)\n",
    "print(subject_names)\n",
    "print(responses)\n",
    "print(exp)"
   ]
  },
  {
   "cell_type": "markdown",
   "metadata": {},
   "source": [
    "As you can see, lists can be combinations of different types of values."
   ]
  },
  {
   "cell_type": "markdown",
   "metadata": {},
   "source": [
    "Instead of typing out all the items you want in your list, you can use certain functions to create lists. For example, \"range\":"
   ]
  },
  {
   "cell_type": "code",
   "execution_count": 13,
   "metadata": {},
   "outputs": [
    {
     "name": "stdout",
     "output_type": "stream",
     "text": [
      "range(0, 10)\n"
     ]
    }
   ],
   "source": [
    "trials=range(10)\n",
    "print(trials)"
   ]
  },
  {
   "cell_type": "markdown",
   "metadata": {},
   "source": [
    "As you can see, simply printing \"trials\" does not produce the list as of python3. It gives you the range of numbers that the variable \"trials\" contains (0,10). This means that the list starts with 0 (python indexing begins at 0), and stops before 10 -- in python, this is very important! 9 is the final number in the list. We know that \"trials\" is an actual list of 10 numbers if we check it's length using \"len\":"
   ]
  },
  {
   "cell_type": "code",
   "execution_count": 14,
   "metadata": {},
   "outputs": [
    {
     "data": {
      "text/plain": [
       "10"
      ]
     },
     "execution_count": 14,
     "metadata": {},
     "output_type": "execute_result"
    }
   ],
   "source": [
    "print(len(trials))"
   ]
  },
  {
   "cell_type": "markdown",
   "metadata": {},
   "source": [
    "We know that \"trials\" contains a list of 10 numbers, so how do we see them? You either have to use the \"list\" function specifically to give you the range of numbers, or you can define the range as a list in one line:"
   ]
  },
  {
   "cell_type": "code",
   "execution_count": 15,
   "metadata": {},
   "outputs": [
    {
     "name": "stdout",
     "output_type": "stream",
     "text": [
      "[0, 1, 2, 3, 4, 5, 6, 7, 8, 9]\n",
      "[0, 1, 2, 3, 4, 5, 6, 7, 8, 9]\n"
     ]
    }
   ],
   "source": [
    "trials=(range(10))\n",
    "print(list(trials))\n",
    "\n",
    "trials=list(range(10))\n",
    "print(trials)"
   ]
  },
  {
   "cell_type": "markdown",
   "metadata": {},
   "source": [
    "As you can see, range(10) gives us a list of integers between 0 and 10, starting at 0 and ending with 9. We can also define a range from a number other than 0, in which case we have to specify the starting number following \"range\":"
   ]
  },
  {
   "cell_type": "code",
   "execution_count": 16,
   "metadata": {},
   "outputs": [
    {
     "name": "stdout",
     "output_type": "stream",
     "text": [
      "[2, 3, 4, 5, 6, 7, 8, 9]\n"
     ]
    }
   ],
   "source": [
    "trials = list(range(2,10))\n",
    "print(trials)"
   ]
  },
  {
   "cell_type": "markdown",
   "metadata": {},
   "source": [
    "[TO THE LIST EXERCISES](level0_exercises.ipynb#list_ex)\n",
    "\n",
    "[BACK TO TABLE OF CONTENTS](#toc)"
   ]
  },
  {
   "cell_type": "markdown",
   "metadata": {},
   "source": [
    "Multiple variables can be stored in a <a id='dicts'>dictionary</a>. All the variables in a dictionary must be wrapped with { } brackets. Each variable must be preceded by a text label and a colon. Each variable is separated by a comma. Here is an example:"
   ]
  },
  {
   "cell_type": "code",
   "execution_count": 17,
   "metadata": {},
   "outputs": [
    {
     "name": "stdout",
     "output_type": "stream",
     "text": [
      "{'numsubs': [1, 2, 3, 4, 5], 'responses': [3, 'yes', '1.0', True], 'subnames': ['sub1', 'sub2', 'sub3', 'sub4', 'sub5'], 'exp': 'my_exp'}\n"
     ]
    }
   ],
   "source": [
    "my_dict = {'numsubs':subject_nrs, 'subnames':subject_names, 'responses':responses, 'exp':exp}\n",
    "print(my_dict)"
   ]
  },
  {
   "cell_type": "markdown",
   "metadata": {},
   "source": [
    "Here you can see a few things: first, variables in the dictionary are not saved in the order they are defined (this is important for indexing, which we will get to in the next part of the tutorial). Second, variables can be different lengths and contain different kinds of information (lists, integers, tuples, etc.). Third, the text label does not have to match the variable name."
   ]
  },
  {
   "cell_type": "markdown",
   "metadata": {},
   "source": [
    "Dictionaries are the main format for storing your behavioral data in python.\n",
    "\n",
    "[TO THE DICTIONARY EXERCISES](level0_exercises.ipynb#dict_ex)\n",
    "\n",
    "[BACK TO TABLE OF CONTENTS](#toc)"
   ]
  },
  {
   "cell_type": "markdown",
   "metadata": {},
   "source": [
    "The final important data type for our purposes is the <a id='arrays'>array</a>. To create arrays in python, we must first import the numpy library in our script. Python does not have an in-built function to create arrays so we will always use numpy. You can then create an array like this:"
   ]
  },
  {
   "cell_type": "code",
   "execution_count": 18,
   "metadata": {},
   "outputs": [
    {
     "name": "stdout",
     "output_type": "stream",
     "text": [
      "[1 2 3 4 5]\n"
     ]
    },
    {
     "data": {
      "text/plain": [
       "numpy.ndarray"
      ]
     },
     "execution_count": 18,
     "metadata": {},
     "output_type": "execute_result"
    }
   ],
   "source": [
    "import numpy\n",
    "data = numpy.array([1,2,3,4,5])\n",
    "print(data)\n",
    "print(type(data))"
   ]
  },
  {
   "cell_type": "markdown",
   "metadata": {},
   "source": [
    "A numpy array looks a lot like a list, but as you can see, if you ask python to tell you what type of variable you have with \"type(data)\", it will give you a numpy.ndarray. Because we work with so many arrays in our scripts, it is good to give numpy an acronym so we don't have to type the whole word out every time we use the library. Numpy is shortened to \"np\", like this:"
   ]
  },
  {
   "cell_type": "code",
   "execution_count": 19,
   "metadata": {},
   "outputs": [],
   "source": [
    "import numpy as np"
   ]
  },
  {
   "cell_type": "markdown",
   "metadata": {},
   "source": [
    "Then we create our array by directing python to the numpy library using the acronym we defined:"
   ]
  },
  {
   "cell_type": "code",
   "execution_count": 20,
   "metadata": {},
   "outputs": [
    {
     "name": "stdout",
     "output_type": "stream",
     "text": [
      "[1 2 3 4 5]\n"
     ]
    },
    {
     "data": {
      "text/plain": [
       "numpy.ndarray"
      ]
     },
     "execution_count": 20,
     "metadata": {},
     "output_type": "execute_result"
    }
   ],
   "source": [
    "data = np.array([1,2,3,4,5])\n",
    "print(data)\n",
    "print(type(data))"
   ]
  },
  {
   "cell_type": "markdown",
   "metadata": {},
   "source": [
    "As you can see, we created the same array, but with the np acronym. Once the numpy library is imported at the beginning of our script with \"import numpy as np\", we can continue to use this acronym throughout our script without redefining it."
   ]
  },
  {
   "cell_type": "code",
   "execution_count": 21,
   "metadata": {},
   "outputs": [
    {
     "name": "stdout",
     "output_type": "stream",
     "text": [
      "[0 0 0 0 0]\n"
     ]
    }
   ],
   "source": [
    "array2 = np.array([0,0,0,0,0])\n",
    "print(array2)"
   ]
  },
  {
   "cell_type": "markdown",
   "metadata": {},
   "source": [
    "So what can we do with an array that we can't do with a list? Here are a few things...\n",
    "\n",
    "<b>np.linspace(starting value, ending value, total values)</b>:"
   ]
  },
  {
   "cell_type": "code",
   "execution_count": 22,
   "metadata": {},
   "outputs": [
    {
     "data": {
      "text/plain": [
       "array([  0. ,   2.5,   5. ,   7.5,  10. ])"
      ]
     },
     "execution_count": 22,
     "metadata": {},
     "output_type": "execute_result"
    }
   ],
   "source": [
    "print(np.linspace(0, 10, 5))"
   ]
  },
  {
   "cell_type": "markdown",
   "metadata": {},
   "source": [
    "\"linspace\" creates an array of values evenly spaced between two values. In parentheses, your starting value comes first, then your ending value, then the total number of values to output."
   ]
  },
  {
   "cell_type": "code",
   "execution_count": 23,
   "metadata": {},
   "outputs": [
    {
     "data": {
      "text/plain": [
       "array([  2.,   4.,   6.,   8.,  10.])"
      ]
     },
     "execution_count": 23,
     "metadata": {},
     "output_type": "execute_result"
    }
   ],
   "source": [
    "print(np.linspace(2,10,5))"
   ]
  },
  {
   "cell_type": "markdown",
   "metadata": {},
   "source": [
    "<b>np.logspace(starting value power of 10, ending value power of 10, total values)</b>:"
   ]
  },
  {
   "cell_type": "code",
   "execution_count": 24,
   "metadata": {},
   "outputs": [
    {
     "data": {
      "text/plain": [
       "array([   10.        ,    16.68100537,    27.82559402,    46.41588834,\n",
       "          77.42636827,   129.1549665 ,   215.443469  ,   359.38136638,\n",
       "         599.48425032,  1000.        ])"
      ]
     },
     "execution_count": 24,
     "metadata": {},
     "output_type": "execute_result"
    }
   ],
   "source": [
    "print(np.logspace(1,3,10))"
   ]
  },
  {
   "cell_type": "markdown",
   "metadata": {},
   "source": [
    "\"logspace\" creates an array of values evenly spaced between two powers of 10 (in this case 1 and 3)."
   ]
  },
  {
   "cell_type": "markdown",
   "metadata": {},
   "source": [
    "<b>np.arange(start, stop, steps)</b>:"
   ]
  },
  {
   "cell_type": "code",
   "execution_count": 25,
   "metadata": {},
   "outputs": [
    {
     "data": {
      "text/plain": [
       "array([ 2,  6, 10, 14, 18])"
      ]
     },
     "execution_count": 25,
     "metadata": {},
     "output_type": "execute_result"
    }
   ],
   "source": [
    "print(np.arange(2,20,4))"
   ]
  },
  {
   "cell_type": "markdown",
   "metadata": {},
   "source": [
    "\"arange\" is similar to the \"range\" function with lists, in which you define the start and stop points (the fnial value will come before the stop point), followed by the steps. In this example, we produce an array of numbers between 2 and 20 in steps of 4."
   ]
  },
  {
   "cell_type": "markdown",
   "metadata": {},
   "source": [
    "<b> np.zeros(number of zeros to produce)</b>:"
   ]
  },
  {
   "cell_type": "code",
   "execution_count": 26,
   "metadata": {},
   "outputs": [
    {
     "name": "stdout",
     "output_type": "stream",
     "text": [
      "[ 0.  0.  0.  0.  0.  0.  0.  0.  0.  0.]\n"
     ]
    }
   ],
   "source": [
    "nullarray = np.zeros(10)\n",
    "print(nullarray)"
   ]
  },
  {
   "cell_type": "markdown",
   "metadata": {},
   "source": [
    "You can also define an array of zeros with a particular shape:\n",
    "\n",
    "<b>np.zeros(shape=(rows, columns))</b>:"
   ]
  },
  {
   "cell_type": "code",
   "execution_count": 27,
   "metadata": {},
   "outputs": [
    {
     "name": "stdout",
     "output_type": "stream",
     "text": [
      "[[ 0.  0.  0.]\n",
      " [ 0.  0.  0.]\n",
      " [ 0.  0.  0.]\n",
      " [ 0.  0.  0.]\n",
      " [ 0.  0.  0.]]\n"
     ]
    }
   ],
   "source": [
    "null2 = np.zeros(shape=(5,3))\n",
    "print(null2)"
   ]
  },
  {
   "cell_type": "code",
   "execution_count": 28,
   "metadata": {},
   "outputs": [
    {
     "data": {
      "text/plain": [
       "(5, 3)"
      ]
     },
     "execution_count": 28,
     "metadata": {},
     "output_type": "execute_result"
    }
   ],
   "source": [
    "print(np.shape(null2))"
   ]
  },
  {
   "cell_type": "markdown",
   "metadata": {},
   "source": [
    "You can do the same thing with ones by using <b>np.ones</b>:"
   ]
  },
  {
   "cell_type": "code",
   "execution_count": 29,
   "metadata": {},
   "outputs": [
    {
     "name": "stdout",
     "output_type": "stream",
     "text": [
      "[[ 1.  1.  1.]\n",
      " [ 1.  1.  1.]\n",
      " [ 1.  1.  1.]\n",
      " [ 1.  1.  1.]\n",
      " [ 1.  1.  1.]]\n"
     ]
    }
   ],
   "source": [
    "onearray = np.ones(shape=(5,3))\n",
    "print(onearray)"
   ]
  },
  {
   "cell_type": "markdown",
   "metadata": {},
   "source": [
    "[TO THE ARRAY EXERCISES](level0_exercises.ipynb#array_ex)\n",
    "\n",
    "[BACK TO TABLE OF CONTENTS](#toc)"
   ]
  }
 ],
 "metadata": {
  "kernelspec": {
   "display_name": "Python 3",
   "language": "python",
   "name": "python3"
  },
  "language_info": {
   "codemirror_mode": {
    "name": "ipython",
    "version": 3
   },
   "file_extension": ".py",
   "mimetype": "text/x-python",
   "name": "python",
   "nbconvert_exporter": "python",
   "pygments_lexer": "ipython3",
   "version": "3.4.2"
  }
 },
 "nbformat": 4,
 "nbformat_minor": 2
}
