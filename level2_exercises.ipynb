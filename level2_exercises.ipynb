{
 "cells": [
  {
   "cell_type": "markdown",
   "metadata": {},
   "source": [
    "# Python Tutorial: Level 2 Exercises"
   ]
  },
  {
   "cell_type": "markdown",
   "metadata": {},
   "source": [
    "### <a id='toc'>Table of Contents</a>"
   ]
  },
  {
   "cell_type": "markdown",
   "metadata": {},
   "source": [
    "[Conditional exercises](#if_ex)\n",
    "<br />[For loop exercises](#for_ex)\n",
    "<br />[While loop exercises](#while_ex)\n",
    "\n",
    "BACK TO [Level 2: Conditionals and Loops](level2.ipynb)"
   ]
  },
  {
   "cell_type": "markdown",
   "metadata": {},
   "source": [
    "## <a id='if_ex'>Conditional exercises</a>"
   ]
  },
  {
   "cell_type": "markdown",
   "metadata": {},
   "source": [
    "1. You want to tell your experiment to record participant responses. If the response is \"1\" or \"2\", print OK. If the response is \"NaN\" (empty), print a \"subject did not respond\" message. If the response is anything else, print \"subject pressed the wrong key\".\n",
    "2. Create a nested \"if\" statement in the above exercise. If the response is \"1\", print \"Correct!\". If the response is \"2\", print \"Incorrect!\"\n",
    "3. Test out your script with various responses. Does it do what you expect it to?"
   ]
  },
  {
   "cell_type": "markdown",
   "metadata": {},
   "source": [
    "## <a id='for_ex'>For loop exercises</a>"
   ]
  },
  {
   "cell_type": "markdown",
   "metadata": {},
   "source": [
    "1. Remember the exercise where you printed each letter of your name? Create a for loop that prints each letter without writing out all of the print statements manually.\n",
    "2. Add an index counter and modify your loop to print the index number after each letter\n",
    "3. Create a list of names \"Amy\",\"Rory\", and \"River\". Create a nested for loop to loop through each letter of each name.\n",
    "4. Add an index counter that gives the index of each letter for each name. The counter should start over at 0 for each name in the list."
   ]
  },
  {
   "cell_type": "markdown",
   "metadata": {},
   "source": [
    "## <a id='while_ex'>While loop exercises</a>"
   ]
  },
  {
   "cell_type": "markdown",
   "metadata": {},
   "source": [
    "1. Create a while loop of 20 iterations that prints \"image1.png\" for the first 10 iterations, and \"image2.png\" for the next 10 iterations.\n",
    "2. Create a while loop that shows an image until the participant makes a response of 1 or 2. Run it a few times to make sure it works the way you expect.\n",
    "3. Create a failsafe that terminates the previous while loop after 5 iterations if one of the valid responses (1,2) have not been made in that time.\n"
   ]
  }
 ],
 "metadata": {
  "kernelspec": {
   "display_name": "Python 3",
   "language": "python",
   "name": "python3"
  },
  "language_info": {
   "codemirror_mode": {
    "name": "ipython",
    "version": 3
   },
   "file_extension": ".py",
   "mimetype": "text/x-python",
   "name": "python",
   "nbconvert_exporter": "python",
   "pygments_lexer": "ipython3",
   "version": "3.4.2"
  }
 },
 "nbformat": 4,
 "nbformat_minor": 2
}
