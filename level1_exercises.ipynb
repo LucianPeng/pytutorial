{
 "cells": [
  {
   "cell_type": "markdown",
   "metadata": {},
   "source": [
    "# Python Tutorial: Level 1 Exercises"
   ]
  },
  {
   "cell_type": "markdown",
   "metadata": {},
   "source": [
    "### <a id='toc'>Table of Contents</a>"
   ]
  },
  {
   "cell_type": "markdown",
   "metadata": {},
   "source": [
    "[Variable operations exercises](#varop_ex)\n",
    "<br />[List operations exercises](#listop_ex)\n",
    "<br />[Zipping exercises](#zip_ex)\n",
    "<br />[Indexing exercises](#index_ex)\n",
    "<br />[Slicing exercises](#slice_ex)\n",
    "\n",
    "BACK TO [Level 1: Manipulating Variables](level1.ipynb)"
   ]
  },
  {
   "cell_type": "markdown",
   "metadata": {},
   "source": [
    "## <a id='varop_ex'>Variable operations exercises</a>"
   ]
  },
  {
   "cell_type": "markdown",
   "metadata": {},
   "source": [
    "1. Create three variables: \"sub_code\", \"subnr_int\", and \"subnr_str\". The sub_code should be \"sub\". Assign the integer 2 to subnr_int, and assign the string \"2\" to subnr_str. Which form of subnr (int or str) can be added to sub_code to create the output \"sub2\"? Why don't both work?\n",
    "\n",
    "2. Use operations to create the following outputs with your variables: \n",
    "<br />\"sub 2\"\n",
    "<br />\"sub 222\"\n",
    "<br />\"sub2sub2sub2\"\n",
    "<br />\"subsubsub222\"\n",
    "\n",
    "[BACK TO TABLE OF CONTENTS](#toc)"
   ]
  },
  {
   "cell_type": "markdown",
   "metadata": {},
   "source": [
    "## <a id='listop_ex'>List operations exercises</a>"
   ]
  },
  {
   "cell_type": "markdown",
   "metadata": {},
   "source": [
    "1. Create a list of numbers [1,2,3] called \"numlist\". Multiply the list by 2.\n",
    "2. Create a numpy array of numbers [1,2,3] called \"numarr\". Multiply the array by 2. What is the difference between multiplying lists and multiplying arrays?\n",
    "3. Create a list of strings ['do','re','mi','fa'] called \"strlist\". Use operations to create the following outputs with your variable: \n",
    "<br />['dodo','rere','mimi','fafa']\n",
    "<br />['do','re','mi','fa','do','re','mi','fa']\n",
    "<br />['do','do','re','re','mi','mi','fa','fa']\n",
    "<br />[['do','do'],['re','re'],['mi','mi'],['fa','fa']]\n",
    "\n",
    "[BACK TO TABLE OF CONTENTS](#toc)"
   ]
  },
  {
   "cell_type": "markdown",
   "metadata": {},
   "source": [
    "## <a id='zip_ex'>Zipping exercises</a>"
   ]
  },
  {
   "cell_type": "markdown",
   "metadata": {},
   "source": [
    "You are designing a memory experiment in which 1 face and 1 house are presented on each trial, one after the other, followed by a post-cue that tells the participant which of the two images to remember. You want to present all combinations of stimuli an equal number of times, with a random trial order for each participant. The order of image presentations (face first or house first) should also be counterbalanced ahead of time.\n",
    "\n",
    "Specifically, you have:\n",
    "- 2 categories of images (faces, houses)\n",
    "- 5 images from each category\n",
    "- 2 post-cues (1,2)\n",
    "\n",
    "Create a script that outputs a counterbalanced list with every face paired with every house, repeated with each possible post-cue. Then, randomize the order of the list. The final output should look something like this:\n",
    "\n",
    "`[(face1.png, house2.png, cue1),\n",
    "(house5.png, face1.png, cue2)...]`\n",
    "\n",
    "[Look at HINTS](#hints)\n"
   ]
  },
  {
   "cell_type": "markdown",
   "metadata": {},
   "source": [
    "## <a id='index_ex'>Indexing exercises</a>"
   ]
  },
  {
   "cell_type": "markdown",
   "metadata": {},
   "source": [
    "1. Create a list of strings called \"colors\", containing the following colors in this order: red, orange, yellow, green, blue, purple\n",
    "2. Using indexing, print the penultimate color.\n",
    "3. Using indexing, print the 3rd and 4th characters of the penultimate color.\n",
    "4. Using indexing, remove the color \"purple\" and add \"indigo\" and \"violet\" to the list instead."
   ]
  },
  {
   "cell_type": "markdown",
   "metadata": {},
   "source": [
    "## <a id='slice_ex'>Slicing exercises</a>"
   ]
  },
  {
   "cell_type": "markdown",
   "metadata": {},
   "source": [
    "1. Create a list of numbers 0-100 called \"list100\".\n",
    "2. Using slicing, print the first 10 numbers in the list.\n",
    "3. Using slicing, print all the odd numbers in the list backwards.\n",
    "4. Using slicing, print the last four numbers in the list backwards.\n",
    "5. Are the 40th-44th numbers in the list equal to integers 39-43? Show the Boolean operation you would use to determine the truth value."
   ]
  },
  {
   "cell_type": "markdown",
   "metadata": {},
   "source": [
    "<br />\n",
    "<br />\n",
    "<br />\n",
    "<br />\n",
    "<br />\n",
    "<br />\n",
    "<br />\n",
    "<br />\n",
    "<br />\n",
    "<br />\n",
    "<br />\n",
    "<br />\n",
    "<br />\n",
    "<br />\n",
    "<br />\n",
    "<br />\n",
    "\n",
    "#### <a id='hints'>Hints</a>\n",
    "-you need 50 trials to counterbalance all conditions\n",
    "<br />-you will need to use multiplication, lists, zip, and np.random.shuffle "
   ]
  }
 ],
 "metadata": {
  "kernelspec": {
   "display_name": "Python 3",
   "language": "python",
   "name": "python3"
  },
  "language_info": {
   "codemirror_mode": {
    "name": "ipython",
    "version": 3
   },
   "file_extension": ".py",
   "mimetype": "text/x-python",
   "name": "python",
   "nbconvert_exporter": "python",
   "pygments_lexer": "ipython3",
   "version": "3.4.2"
  },
  "widgets": {
   "application/vnd.jupyter.widget-state+json": {
    "state": {
     "0ec7523e766d4192bdbab56d356078d9": {
      "model_module": "@jupyter-widgets/controls",
      "model_module_version": "1.5.0",
      "model_name": "DescriptionStyleModel",
      "state": {
       "description_width": ""
      }
     },
     "196e52fca92246cc81441709b402e38c": {
      "model_module": "@jupyter-widgets/base",
      "model_module_version": "1.2.0",
      "model_name": "LayoutModel",
      "state": {}
     },
     "322461490a4d448ebe6c8d5f80eb3010": {
      "model_module": "@jupyter-widgets/base",
      "model_module_version": "1.2.0",
      "model_name": "LayoutModel",
      "state": {}
     },
     "4051b5bbc5f240c6a7a118d5126a173a": {
      "model_module": "@jupyter-widgets/controls",
      "model_module_version": "1.5.0",
      "model_name": "DescriptionStyleModel",
      "state": {
       "description_width": ""
      }
     },
     "40d80251fb3b48c68211fb3776c58cca": {
      "model_module": "@jupyter-widgets/controls",
      "model_module_version": "1.5.0",
      "model_name": "DropdownModel",
      "state": {
       "_options_labels": [
        "you will need 50 trials to create all possible combinations",
        "Two",
        "Three",
        "Four",
        "Five"
       ],
       "index": 0,
       "layout": "IPY_MODEL_196e52fca92246cc81441709b402e38c",
       "style": "IPY_MODEL_d497ae2e03ee41669e19c4ddc454671a"
      }
     },
     "499ea6f71cd24afab0b4bb5f0dd8ea77": {
      "model_module": "@jupyter-widgets/controls",
      "model_module_version": "1.5.0",
      "model_name": "DescriptionStyleModel",
      "state": {
       "description_width": ""
      }
     },
     "4d1e0d01dea44079b179f8b06d431c88": {
      "model_module": "@jupyter-widgets/controls",
      "model_module_version": "1.5.0",
      "model_name": "DescriptionStyleModel",
      "state": {
       "description_width": ""
      }
     },
     "4e251747c5f541cb97130c1310e71925": {
      "model_module": "@jupyter-widgets/base",
      "model_module_version": "1.2.0",
      "model_name": "LayoutModel",
      "state": {}
     },
     "5920ebd9a9e14c24bc5b87f829b9d109": {
      "model_module": "@jupyter-widgets/controls",
      "model_module_version": "1.5.0",
      "model_name": "DropdownModel",
      "state": {
       "_options_labels": [
        "click this dropdown list to see hints",
        "you will need 50 trials to create all possible combinations",
        "lists",
        "multiplication",
        "zip",
        "np.random.shuffle"
       ],
       "index": 0,
       "layout": "IPY_MODEL_a0c4c120c8ee43858d964c3c470f880d",
       "style": "IPY_MODEL_4051b5bbc5f240c6a7a118d5126a173a"
      }
     },
     "5d4b3af00f2a4fe08ec0ad49505aa84b": {
      "model_module": "@jupyter-widgets/controls",
      "model_module_version": "1.5.0",
      "model_name": "DropdownModel",
      "state": {
       "_options_labels": [
        "click this dropdown list to see hints",
        "you will need 50 trials to create all possible combinations",
        "you will need to make lists",
        "you will need to use multiplication",
        "you will need to use zip",
        "you will need to use np.random.shuffle"
       ],
       "index": 0,
       "layout": "IPY_MODEL_d7b74143957c4206b5fca1d01c892501",
       "style": "IPY_MODEL_9465386a8b434fb895c4baf2496cd13c"
      }
     },
     "5d7d1baee3f1480c8767adcd586451e4": {
      "model_module": "@jupyter-widgets/controls",
      "model_module_version": "1.5.0",
      "model_name": "DropdownModel",
      "state": {
       "_options_labels": [
        "click this dropdown list to see hints",
        "you will need 50 trials to create all possible combinations",
        "you will need to make lists",
        "you will need to use multiplication",
        "you will need to use zip",
        "you will need to use np.random.shuffle"
       ],
       "index": 0,
       "layout": "IPY_MODEL_dd984a2b111d4e3fae722fc0350bb9eb",
       "style": "IPY_MODEL_0ec7523e766d4192bdbab56d356078d9"
      }
     },
     "627a54cc709d4f40b1875e140c48a3e2": {
      "model_module": "@jupyter-widgets/controls",
      "model_module_version": "1.5.0",
      "model_name": "DescriptionStyleModel",
      "state": {
       "description_width": ""
      }
     },
     "76e2e6e5579a43ccb44c30e93917239f": {
      "model_module": "@jupyter-widgets/base",
      "model_module_version": "1.2.0",
      "model_name": "LayoutModel",
      "state": {}
     },
     "7f319dc39e0045f88294f250e25dbe09": {
      "model_module": "@jupyter-widgets/controls",
      "model_module_version": "1.5.0",
      "model_name": "DropdownModel",
      "state": {
       "_options_labels": [
        "click this dropdown list to see hints",
        "you will need 50 trials to create all possible combinations",
        "you will need to make lists",
        "you will need to use multiplication",
        "you will need to use zip",
        "you will need to use np.random.shuffle"
       ],
       "index": 0,
       "layout": "IPY_MODEL_e91ca55aee394895b29a366d4d5529d7",
       "style": "IPY_MODEL_e363d477951d450ebc943acba1b31a15"
      }
     },
     "8754f973ee7a454e98deb343e4665794": {
      "model_module": "@jupyter-widgets/controls",
      "model_module_version": "1.5.0",
      "model_name": "DescriptionStyleModel",
      "state": {
       "description_width": ""
      }
     },
     "9465386a8b434fb895c4baf2496cd13c": {
      "model_module": "@jupyter-widgets/controls",
      "model_module_version": "1.5.0",
      "model_name": "DescriptionStyleModel",
      "state": {
       "description_width": ""
      }
     },
     "9a496365be074ef49db6373409724ca5": {
      "model_module": "@jupyter-widgets/base",
      "model_module_version": "1.2.0",
      "model_name": "LayoutModel",
      "state": {}
     },
     "a0c4c120c8ee43858d964c3c470f880d": {
      "model_module": "@jupyter-widgets/base",
      "model_module_version": "1.2.0",
      "model_name": "LayoutModel",
      "state": {}
     },
     "b4da9430ee10435a8baaece502e67740": {
      "model_module": "@jupyter-widgets/controls",
      "model_module_version": "1.5.0",
      "model_name": "DescriptionStyleModel",
      "state": {
       "description_width": ""
      }
     },
     "b7ff10eece0848c0989c780e019f39b5": {
      "model_module": "@jupyter-widgets/controls",
      "model_module_version": "1.5.0",
      "model_name": "DropdownModel",
      "state": {
       "_options_labels": [
        "click this dropdown list to see hints",
        "you will need 50 trials to create all possible combinations",
        "you will need to make lists",
        "you will need to use multiplication",
        "you will need to use zip",
        "you will need to use np.random.shuffle"
       ],
       "index": 0,
       "layout": "IPY_MODEL_9a496365be074ef49db6373409724ca5",
       "style": "IPY_MODEL_dc85a0907a704a068caf2b13d5de1467"
      }
     },
     "b8622bd1d489402b9b303695eac1a27c": {
      "model_module": "@jupyter-widgets/controls",
      "model_module_version": "1.5.0",
      "model_name": "DropdownModel",
      "state": {
       "_options_labels": [
        "click this dropdown list to see hints",
        "you will need 50 trials to create all possible combinations",
        "you will need to make lists",
        "you will need to use multiplication",
        "you will need to use zip",
        "you will need to use np.random.shuffle"
       ],
       "index": 0,
       "layout": "IPY_MODEL_e79c1971cfbd474784ef2539f8a0776e",
       "style": "IPY_MODEL_4d1e0d01dea44079b179f8b06d431c88"
      }
     },
     "c0c0486ecc914403a427110883eab47a": {
      "model_module": "@jupyter-widgets/controls",
      "model_module_version": "1.5.0",
      "model_name": "DropdownModel",
      "state": {
       "_options_labels": [
        "click this dropdown list to see hints",
        "you will need 50 trials to create all possible combinations",
        "you will need to make lists",
        "you will need to use multiplication",
        "you will need to use zip",
        "you will need to use np.random.shuffle"
       ],
       "index": 0,
       "layout": "IPY_MODEL_76e2e6e5579a43ccb44c30e93917239f",
       "style": "IPY_MODEL_627a54cc709d4f40b1875e140c48a3e2"
      }
     },
     "d497ae2e03ee41669e19c4ddc454671a": {
      "model_module": "@jupyter-widgets/controls",
      "model_module_version": "1.5.0",
      "model_name": "DescriptionStyleModel",
      "state": {
       "description_width": ""
      }
     },
     "d7b74143957c4206b5fca1d01c892501": {
      "model_module": "@jupyter-widgets/base",
      "model_module_version": "1.2.0",
      "model_name": "LayoutModel",
      "state": {}
     },
     "dc85a0907a704a068caf2b13d5de1467": {
      "model_module": "@jupyter-widgets/controls",
      "model_module_version": "1.5.0",
      "model_name": "DescriptionStyleModel",
      "state": {
       "description_width": ""
      }
     },
     "dcbb1656580d4315accc5d68944e29ca": {
      "model_module": "@jupyter-widgets/controls",
      "model_module_version": "1.5.0",
      "model_name": "DropdownModel",
      "state": {
       "_options_labels": [
        "click this dropdown list to see hints",
        "you will need 50 trials to create all possible combinations",
        "you will need to make lists",
        "you will need to use multiplication",
        "you will need to use zip",
        "you will need to use np.random.shuffle"
       ],
       "index": 0,
       "layout": "IPY_MODEL_e27cf3b8b996487eb06e61208d01f1e2",
       "style": "IPY_MODEL_b4da9430ee10435a8baaece502e67740"
      }
     },
     "dd984a2b111d4e3fae722fc0350bb9eb": {
      "model_module": "@jupyter-widgets/base",
      "model_module_version": "1.2.0",
      "model_name": "LayoutModel",
      "state": {}
     },
     "e27cf3b8b996487eb06e61208d01f1e2": {
      "model_module": "@jupyter-widgets/base",
      "model_module_version": "1.2.0",
      "model_name": "LayoutModel",
      "state": {}
     },
     "e363d477951d450ebc943acba1b31a15": {
      "model_module": "@jupyter-widgets/controls",
      "model_module_version": "1.5.0",
      "model_name": "DescriptionStyleModel",
      "state": {
       "description_width": ""
      }
     },
     "e79c1971cfbd474784ef2539f8a0776e": {
      "model_module": "@jupyter-widgets/base",
      "model_module_version": "1.2.0",
      "model_name": "LayoutModel",
      "state": {}
     },
     "e91ca55aee394895b29a366d4d5529d7": {
      "model_module": "@jupyter-widgets/base",
      "model_module_version": "1.2.0",
      "model_name": "LayoutModel",
      "state": {}
     },
     "faa70323ca06465a8c72eb93dbfa5b10": {
      "model_module": "@jupyter-widgets/controls",
      "model_module_version": "1.5.0",
      "model_name": "DropdownModel",
      "state": {
       "_options_labels": [
        "One",
        "Two",
        "Three",
        "Four",
        "Five"
       ],
       "index": 0,
       "layout": "IPY_MODEL_322461490a4d448ebe6c8d5f80eb3010",
       "style": "IPY_MODEL_8754f973ee7a454e98deb343e4665794"
      }
     },
     "fc4e1c8386b64319a2682ccd96c21124": {
      "model_module": "@jupyter-widgets/controls",
      "model_module_version": "1.5.0",
      "model_name": "DropdownModel",
      "state": {
       "_options_labels": [
        "click this dropdown list to see hints",
        "you will need 50 trials to create all possible combinations",
        "you will need to make lists",
        "you will need to use multiplication",
        "you will need to use zip",
        "you will need to use np.random.shuffle"
       ],
       "index": 0,
       "layout": "IPY_MODEL_4e251747c5f541cb97130c1310e71925",
       "style": "IPY_MODEL_499ea6f71cd24afab0b4bb5f0dd8ea77"
      }
     }
    },
    "version_major": 2,
    "version_minor": 0
   }
  }
 },
 "nbformat": 4,
 "nbformat_minor": 2
}
