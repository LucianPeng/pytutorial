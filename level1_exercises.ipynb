{
 "cells": [
  {
   "cell_type": "markdown",
   "metadata": {},
   "source": [
    "# Python Tutorial: Level 0 Exercises"
   ]
  },
  {
   "cell_type": "markdown",
   "metadata": {},
   "source": [
    "### <a id='toc'>Table of Contents</a>"
   ]
  },
  {
   "cell_type": "markdown",
   "metadata": {},
   "source": [
    "[Variable operations exercises](#varop_ex)\n",
    "<br />[List operations exercises](#listop_ex)\n",
    "<br />[Zipping exercises](#zip_ex)\n",
    "<br />[Indexing exercises](#index_ex)\n",
    "<br />[Slicing exercises](#slice_ex)\n",
    "\n",
    "BACK TO [Level 1: Manipulating Variables](level1.ipynb)"
   ]
  },
  {
   "cell_type": "markdown",
   "metadata": {},
   "source": [
    "## <a id='varop_ex'>Variable operations exercises</a>"
   ]
  },
  {
   "cell_type": "markdown",
   "metadata": {},
   "source": [
    "1. Create three variables: \"sub_code\", \"subnr_int\", and \"subnr_str\". The sub_code should be \"sub\". Assign the integer 2 to subnr_int, and assign the string \"2\" to subnr_str. Which form of subnr (int or str) can be added to sub_code to create the output \"sub2\"? Why don't both work?\n",
    "\n",
    "2. Use operations to create the following output with your variables: \"sub 2\", \"sub 222\", \"sub2sub2sub2\", and\"subsubsub222\"\n",
    "\n",
    "[BACK TO TABLE OF CONTENTS](#toc)"
   ]
  },
  {
   "cell_type": "markdown",
   "metadata": {},
   "source": [
    "## <a id='listop_ex'>List operations exercises</a>"
   ]
  },
  {
   "cell_type": "markdown",
   "metadata": {},
   "source": [
    "1. Create three lists: \n",
    "\n",
    "[BACK TO TABLE OF CONTENTS](#toc)"
   ]
  }
 ],
 "metadata": {
  "kernelspec": {
   "display_name": "Python 3",
   "language": "python",
   "name": "python3"
  },
  "language_info": {
   "codemirror_mode": {
    "name": "ipython",
    "version": 3
   },
   "file_extension": ".py",
   "mimetype": "text/x-python",
   "name": "python",
   "nbconvert_exporter": "python",
   "pygments_lexer": "ipython3",
   "version": "3.4.2"
  }
 },
 "nbformat": 4,
 "nbformat_minor": 2
}
