{
 "cells": [
  {
   "cell_type": "markdown",
   "metadata": {},
   "source": [
    "# Python Tutorial: Level 5"
   ]
  },
  {
   "cell_type": "markdown",
   "metadata": {},
   "source": [
    "### For the OVGU Cognitive Neuroscience Master's course H.3: Projektseminar"
   ]
  },
  {
   "cell_type": "markdown",
   "metadata": {},
   "source": [
    "### Taught by Reshanne Ruhnau"
   ]
  },
  {
   "cell_type": "markdown",
   "metadata": {},
   "source": [
    "I would suggest following this course with the [Spyder environment](https://www.spyder-ide.org/) because it allows you to visualize your work nicely (and it has a familiar design if you are coming from MATLAB)."
   ]
  },
  {
   "cell_type": "markdown",
   "metadata": {},
   "source": [
    "### <a id='toc'>Table of Contents</a>"
   ]
  },
  {
   "cell_type": "markdown",
   "metadata": {},
   "source": [
    "[Level 5: PsychoPy - Clocks and timing](#level5)\n",
    "\n",
    "- [Wait](#wait)\n",
    "- [Clocks](#clock)\n",
    "- [Frame-based timing](#frame)\n",
    "\n",
    "[Level 5 Exercises](level5_exercises.ipynb)\n",
    "\n",
    "BACK TO [Level 0: A New Language](python_tutorial.ipynb)\n",
    "<br />BACK TO [Level 1: Manipulating Variables](level1.ipynb)\n",
    "<br />BACK TO [Level 2: Conditionals and Loops](level2.ipynb)\n",
    "<br />BACK TO [Level 3: PsychoPy 101](level3.ipynb)\n",
    "<br />BACK TO [Level 4: PsychoPy - Showing windows and stimuli](level4.ipynb)\n",
    "\n",
    "<br />ONWARD TO [Level 6: PsychoPy - Response collection and save data](level6.ipynb)"
   ]
  },
  {
   "cell_type": "markdown",
   "metadata": {},
   "source": [
    "## <a id='level5'>Level 5: PsychoPy - Clocks and timing</a>"
   ]
  },
  {
   "cell_type": "markdown",
   "metadata": {},
   "source": [
    "So far we have been controlling window flips using keypresses, but in a real experiment you will usually want window flips to occur automatically following some kind of timer (draw stimulus, flip window, wait 2 seconds. draw stimulus, flip window, etc.). To do this in psychopy, we need the \"core\" module:"
   ]
  },
  {
   "cell_type": "code",
   "execution_count": null,
   "metadata": {},
   "outputs": [],
   "source": [
    "from psychopy import core"
   ]
  },
  {
   "cell_type": "markdown",
   "metadata": {},
   "source": [
    "Then if you type \"core.\" followed by the \"tab\" key, this will bring up a list of functions you can use with this module. The simplest way to make a window wait until the next flip is to use <a id='wait'>core.wait</a>. This is the easiest but least flexible / least accurate timing function."
   ]
  },
  {
   "cell_type": "markdown",
   "metadata": {},
   "source": [
    "All you have to do is replace \"event.waitKeys()\" in the trial loop with \"core.wait()\", and the wait time in seconds within the parentheses:"
   ]
  },
  {
   "cell_type": "code",
   "execution_count": null,
   "metadata": {},
   "outputs": [],
   "source": [
    "#So this:\n",
    "        #-draw stimulus\n",
    "        my_image.draw() #draw\n",
    "        win.flip() #show\n",
    "        event.waitKeys() #wait for keypress\n",
    "\n",
    "#Becomes:\n",
    "        #-draw stimulus\n",
    "        my_image.draw() #draw\n",
    "        win.flip() #show\n",
    "        core.wait(2) #wait for 2 seconds"
   ]
  },
  {
   "cell_type": "markdown",
   "metadata": {},
   "source": [
    "You need to define the wait time for every stimulus that will be shown on a trial. This includes an initial fixation, the image, and then the \"end of trial\" message. You can add these to your experiment script in the exercises."
   ]
  },
  {
   "cell_type": "markdown",
   "metadata": {},
   "source": [
    "[TO THE WAIT EXERCISES](#level5_exercises.ipynb#wait_ex)\n",
    "\n",
    "[BACK TO TABLE OF CONTENTS](#toc)"
   ]
  },
  {
   "cell_type": "markdown",
   "metadata": {},
   "source": [
    "\"wait\" is easy to implement, but you it is imprecise and will also run into problems if you want to present dynamic or changing stimuli. \"wait\" will essentially freeze the window, so more complex stimuli are not possible with this function. A more precise and flexible option is to use a <a id='clock'>Clock</a>. Clock is psychopy's internal experiment timer. As soon as you define a clock, it starts counting up until the experiment ends or the clock is refreshed. For example:"
   ]
  },
  {
   "cell_type": "code",
   "execution_count": null,
   "metadata": {},
   "outputs": [],
   "source": [
    "my_timer = core.Clock() #define a clock\n",
    "my_timer.getTime() #get time on the clock"
   ]
  },
  {
   "cell_type": "markdown",
   "metadata": {},
   "source": [
    "It is important to know that re-defining or resetting my_timer inside or outside of a loop will change the timing that is counted.\n",
    "\n",
    "If you define my_timer at the beginning of the trial loop, and print \"getTime\" at the end of the trial loop, you will get the total trial time. This will reset for every trial because you refresh my_timer by redefining it within the loop.\n",
    "\n",
    "If you define my_timer within the block loop, and print \"getTime\" at the end of the block loop, you will get the total block time.\n",
    "\n",
    "If you want to know both the total trial time and the total block time, you can define several clocks outside of either loop, and simply refresh each clock within each loop, respectively:"
   ]
  },
  {
   "cell_type": "code",
   "execution_count": null,
   "metadata": {},
   "outputs": [],
   "source": [
    "block_timer = core.Clock()\n",
    "trial_timer = core.Clock()\n",
    "\n",
    "for block in range(nBlocks):\n",
    "    block_timer.reset()\n",
    "    \n",
    "    for trial in range(nTrials):\n",
    "        trial_timer.reset()\n",
    "        #run the experiment...\n",
    "        \n",
    "        trial_timer.getTime() #get time at the end of the trial\n",
    "        \n",
    "    block_timer.getTime() #get block time (remember to indent properly)\n",
    "    \n",
    "win.close()       "
   ]
  },
  {
   "cell_type": "markdown",
   "metadata": {},
   "source": [
    "Clocks are also very handy in defining stimulus timing, and are more accurate than core.wait. To do this, you need to wrap your stimulus in a while loop, and tell your experiment \"while the clock is between these 2 times, present the stimulus\". This loop is nested inside your trial loop, so instead of this:"
   ]
  },
  {
   "cell_type": "code",
   "execution_count": null,
   "metadata": {},
   "outputs": [],
   "source": [
    "for block in range(nBlocks):    \n",
    "    #=====================\n",
    "    #TRIAL SEQUENCE\n",
    "    #=====================    \n",
    "    for trial in range(nTrials):\n",
    "        #-set stimuli and stimulus properties for the current trial\n",
    "        my_image.image = os.path.join(image_dir,stims[trial]) #point to a different filename for each image\n",
    "        #-empty keypresses\n",
    "        \n",
    "        #=====================\n",
    "        #START TRIAL\n",
    "        #=====================   \n",
    "        #-draw stimulus\n",
    "        my_image.draw() #draw\n",
    "        win.flip() #show\n",
    "        event.waitKeys() #wait for keypress\n",
    "        \n",
    "win.close()           "
   ]
  },
  {
   "cell_type": "markdown",
   "metadata": {},
   "source": [
    "You have this:"
   ]
  },
  {
   "cell_type": "code",
   "execution_count": null,
   "metadata": {},
   "outputs": [],
   "source": [
    "pres_timer = core.Clock() #define the clock at the beginning of the experiment\n",
    "\n",
    "for block in range(nBlocks):\n",
    "    #=====================\n",
    "    #TRIAL SEQUENCE\n",
    "    #=====================    \n",
    "    for trial in range(nTrials):\n",
    "        #-set stimuli and stimulus properties for the current trial\n",
    "        my_image.image = os.path.join(image_dir,stims[trial]) #point to a different filename for each image\n",
    "        #-empty keypresses\n",
    "        \n",
    "        #=====================\n",
    "        #START TRIAL\n",
    "        #=====================   \n",
    "        pres_timer.reset() #reset stimulus presentation timer right before the first stimulus should appear\n",
    "        #-draw stimulus\n",
    "        while pres_timer.getTime() <=2: #2 seconds\n",
    "            my_image.draw() #draw\n",
    "            win.flip() #show\n",
    "            \n",
    "win.close()               "
   ]
  },
  {
   "cell_type": "markdown",
   "metadata": {},
   "source": [
    "And you can add multiple while loops to present sequential stimuli:"
   ]
  },
  {
   "cell_type": "code",
   "execution_count": null,
   "metadata": {},
   "outputs": [],
   "source": [
    "        pres_timer.reset() #reset stimulus presentation timer right before the first stimulus should appear\n",
    "        #-draw stimulus\n",
    "        while pres_timer.getTime() <=1: #1 second\n",
    "            fix_text.draw() #draw\n",
    "            win.flip() #show  \n",
    "        while 1 < pres_timer.getTime() <=3: #2 seconds\n",
    "            my_image.draw() #draw\n",
    "            win.flip() #show  "
   ]
  },
  {
   "cell_type": "markdown",
   "metadata": {},
   "source": [
    "To present simultaneous stimuli (for example, a constant fixation cross), you have to draw it again within the next while loop:"
   ]
  },
  {
   "cell_type": "code",
   "execution_count": null,
   "metadata": {},
   "outputs": [],
   "source": [
    "        pres_timer.reset() #reset stimulus presentation timer right before the first stimulus should appear\n",
    "        #-draw stimulus\n",
    "        while pres_timer.getTime() <=1: #1 second\n",
    "            fix_text.draw() #draw\n",
    "            win.flip() #show  \n",
    "        while 1 < pres_timer.getTime() <=3: #2 seconds\n",
    "            my_image.draw() #draw\n",
    "            fix_text.draw() #draw fixation on top of the image\n",
    "            win.flip() #show  "
   ]
  },
  {
   "cell_type": "markdown",
   "metadata": {},
   "source": [
    "You can also use a CountdownTimer, which is similar to Clock, except instead of counting up, it counts - you guessed it - down. In that case you simply have to add time to your CountdownTimer after resetting the clock, and invert the times defined in your while loops:"
   ]
  },
  {
   "cell_type": "code",
   "execution_count": null,
   "metadata": {},
   "outputs": [],
   "source": [
    "pres_timer = core.CountdownTimer() #define the countdown clock at the beginning of the experiment\n",
    "\n",
    "for block in range(nBlocks):\n",
    "    #=====================\n",
    "    #TRIAL SEQUENCE\n",
    "    #=====================    \n",
    "    for trial in range(nTrials):\n",
    "        #-set stimuli and stimulus properties for the current trial\n",
    "        my_image.image = os.path.join(image_dir,stims[trial]) #point to a different filename for each image\n",
    "        #-empty keypresses\n",
    "        \n",
    "        #=====================\n",
    "        #START TRIAL\n",
    "        #=====================   \n",
    "        pres_timer.reset() #reset stimulus presentation timer right before the first stimulus should appear\n",
    "        pres_timer.add(2) #add 2 seconds because your trial is 2 seconds\n",
    "        #-draw stimulus\n",
    "        while pres_timer.getTime() >0: #2 seconds\n",
    "            my_image.draw() #draw\n",
    "            win.flip() #show\n",
    "            \n",
    "win.close()               "
   ]
  },
  {
   "cell_type": "markdown",
   "metadata": {},
   "source": [
    "And you can add stimuli (and trial time) as necessary:"
   ]
  },
  {
   "cell_type": "code",
   "execution_count": null,
   "metadata": {},
   "outputs": [],
   "source": [
    "        pres_timer.reset() #reset stimulus presentation timer right before the first stimulus should appear\n",
    "        pres_timer.add(3) #add 3 seconds because your trial is 3 seconds\n",
    "        #-draw stimulus\n",
    "        while pres_timer.getTime() >= 2: #1 second\n",
    "            fix_text.draw() #draw\n",
    "            win.flip() #show  \n",
    "        while 0 <= pres_timer.getTime() < 2: #2 seconds\n",
    "            my_image.draw() #draw\n",
    "            fix_text.draw() #draw fixation on top of the image\n",
    "            win.flip() #show  "
   ]
  },
  {
   "cell_type": "markdown",
   "metadata": {},
   "source": [
    "[TO THE CLOCK EXERCISES](#level5_exercises.ipynb#clock_ex)\n",
    "\n",
    "[BACK TO TABLE OF CONTENTS](#toc)"
   ]
  },
  {
   "cell_type": "markdown",
   "metadata": {},
   "source": [
    "You can use clocks for most experiment timing needs, but what if you want millisecond precision? As precise as clocks are, they are not perfectly accurate because the duration of your stimuli are limited by your monitor's refresh rate. If your monitor has a refresh frequency of 60 Hz (pretty common), that means your computer screen refreshes 60 times in 1 second = 1/60 = 16.666..ms frames. Therefore, a stimulus can be presented for 16.666 ms, 33.333 ms, 50 ms, 66.666 ms...etc, but nothing in between. For millisecond precision based on your hardware limitations, you should therefore use <a id='frame'>frame-based timing</a>."
   ]
  },
  {
   "cell_type": "markdown",
   "metadata": {},
   "source": [
    "The first thing you need to find out is your monitor's refresh rate. Whatever it is (x), define the refresh rate as 1.0/x:"
   ]
  },
  {
   "cell_type": "code",
   "execution_count": 1,
   "metadata": {},
   "outputs": [
    {
     "name": "stdout",
     "output_type": "stream",
     "text": [
      "60.0\n"
     ]
    }
   ],
   "source": [
    "refresh=1.0/60.0 #single frame duration in seconds\n",
    "print(1/(1/60))"
   ]
  },
  {
   "cell_type": "markdown",
   "metadata": {},
   "source": [
    "Then you can define your stimulus durations based on this number:"
   ]
  },
  {
   "cell_type": "code",
   "execution_count": 2,
   "metadata": {},
   "outputs": [
    {
     "name": "stdout",
     "output_type": "stream",
     "text": [
      "Seconds: 1.0 2.0 1.5\n",
      "Frames: 60.0 120.0 90.0\n"
     ]
    }
   ],
   "source": [
    "#So this:\n",
    "fix_dur = 1.0 #1 sec\n",
    "image_dur = 2.0 #2 sec\n",
    "text_dur = 1.5 #1.5 sec\n",
    "\n",
    "#Becomes:\n",
    "fix_frames = fix_dur / refresh\n",
    "image_frames = image_dur / refresh\n",
    "text_frames = text_dur / refresh\n",
    "\n",
    "print(\"Seconds:\", fix_dur, image_dur, text_dur)\n",
    "print(\"Frames:\", fix_frames, image_frames, text_frames)"
   ]
  },
  {
   "cell_type": "markdown",
   "metadata": {},
   "source": [
    "When you are deciding upon stimulus presentation times, it is good if your durations in seconds equate to whole numbers of frames as shown sbove. This will give you the most accurate timing whether you use frame-based or clock-based timing. Here is how you can implement frame-based timing into your trial loop:"
   ]
  },
  {
   "cell_type": "code",
   "execution_count": null,
   "metadata": {},
   "outputs": [],
   "source": [
    "fix_frames = int(fix_dur / refresh) #whole number\n",
    "image_frames = int(image_dur / refresh) #whole number\n",
    "text_frames = int(text_dur / refresh) #whole number\n",
    "total_frames = int(fix_frames + image_frames + text_frames) #the total number of frames to be presented on a trial\n",
    "\n",
    "for block in range(nBlocks):\n",
    "    #=====================\n",
    "    #TRIAL SEQUENCE\n",
    "    #=====================    \n",
    "    for trial in range(nTrials):\n",
    "        #-set stimuli and stimulus properties for the current trial\n",
    "        my_image.image = os.path.join(image_dir,stims[trial]) #point to a different filename for each image\n",
    "        #-empty keypresses\n",
    "        \n",
    "        #=====================\n",
    "        #START TRIAL\n",
    "        #=====================   \n",
    "        for frameN in range(total_frames): #for the whole trial...\n",
    "            #-draw stimulus\n",
    "            if 0 <= frameN <= fix_frames: #number of frames for fixation\n",
    "                fix.draw() #draw\n",
    "                win.flip() #show\n",
    "            if fix_frames < frameN <= (fix_frames+image_frames): #number of frames for image after fixation\n",
    "                fix.draw() #draw\n",
    "                win.flip() #show    \n",
    "            if (fix_frames+image_frames) < frameN < (fix_frames+image_frames+text_frames): #number of frames for the final text stimulus\n",
    "                fix.draw() #draw\n",
    "                win.flip() #show   \n",
    "                \n",
    "win.close()                "
   ]
  },
  {
   "cell_type": "markdown",
   "metadata": {},
   "source": [
    "This is the most accurate way to measure timing... IF you are not dropping frames. Your experiment may drop frames for varius reasons - if you are running simultaneous programs, if you are running your experiment from a virtual environment, etc. This can lead to lags on the order of several milliseconds. If there is a lag, the experiment will wait until another frame is completed, thus \"dropping\" the last frame. You can check if your experiment is dropping frames with the following code:"
   ]
  },
  {
   "cell_type": "code",
   "execution_count": null,
   "metadata": {},
   "outputs": [],
   "source": [
    "from psychopy import logging #this can output various information about your experiment\n",
    "\n",
    "win.recordFrameIntervals = True #record frames\n",
    "win.refreshThreshold = 1.0/60.0 + 0.004 #give the monitor refresh rate plus a few ms tolerance (usually 4ms)\n",
    "\n",
    "# Set the log module to report warnings to the standard output window (default is errors only).\n",
    "logging.console.setLevel(logging.WARNING)\n",
    "\n",
    "#-------------------  \n",
    "#EXPERIMENT CODE HERE\n",
    "#for block in range(nBlocks):\n",
    "    #=====================\n",
    "    #TRIAL SEQUENCE\n",
    "    #=====================    \n",
    "    #define stimulus params\n",
    "        #=====================\n",
    "        #START TRIAL\n",
    "        #=====================   \n",
    "        #run trial\n",
    "#-------------------           \n",
    "\n",
    "        #this will print total number of frames dropped following every trial\n",
    "        print('Overall, %i frames were dropped.' % win.nDroppedFrames) #print number of dropped frames\n",
    "\n",
    "win.close()"
   ]
  },
  {
   "cell_type": "markdown",
   "metadata": {},
   "source": [
    "If your experiment keeps dropping frames, you may actually notice a lag in your stimulus presentation when using frame-based timing. In this case, you can try to make your experiment run more efficiently (closing multiple programs, running the experiment outside of a virtual environment), but if this is not possible, it is better to use clock-based timing."
   ]
  },
  {
   "cell_type": "markdown",
   "metadata": {},
   "source": [
    "[TO THE FRAME-BASED TIMING EXERCISES](#level5_exercises.ipynb#frame_ex)\n",
    "\n",
    "[BACK TO TABLE OF CONTENTS](#toc)"
   ]
  }
 ],
 "metadata": {
  "kernelspec": {
   "display_name": "Python 3",
   "language": "python",
   "name": "python3"
  },
  "language_info": {
   "codemirror_mode": {
    "name": "ipython",
    "version": 3
   },
   "file_extension": ".py",
   "mimetype": "text/x-python",
   "name": "python",
   "nbconvert_exporter": "python",
   "pygments_lexer": "ipython3",
   "version": "3.6.9"
  }
 },
 "nbformat": 4,
 "nbformat_minor": 2
}
