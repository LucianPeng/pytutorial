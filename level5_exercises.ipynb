{
 "cells": [
  {
   "cell_type": "markdown",
   "metadata": {},
   "source": [
    "# Python Tutorial: Level 5 Exercises"
   ]
  },
  {
   "cell_type": "markdown",
   "metadata": {},
   "source": [
    "### <a id='toc'>Table of Contents</a>"
   ]
  },
  {
   "cell_type": "markdown",
   "metadata": {},
   "source": [
    "[Wait exercises](#wait_ex)\n",
    "<br />[Clock exercises](#clock_ex)\n",
    "\n",
    "BACK TO [Level 5: PsychoPy - Clocks and timing](level5.ipynb)"
   ]
  },
  {
   "cell_type": "markdown",
   "metadata": {},
   "source": [
    "## <a id='wait_ex'>Wait exercises</a>"
   ]
  },
  {
   "cell_type": "markdown",
   "metadata": {},
   "source": [
    "1. Fill in the following pseudocode with the real code you have learned so far using \"core.wait\" (and run it to make sure it works):"
   ]
  },
  {
   "cell_type": "code",
   "execution_count": 1,
   "metadata": {},
   "outputs": [],
   "source": [
    "        #=====================\n",
    "        #START TRIAL\n",
    "        #===================== \n",
    "        #-draw fixation\n",
    "        #-flip window\n",
    "        #-wait time (stimulus duration)\n",
    "        \n",
    "        #-draw image\n",
    "        #-flip window\n",
    "        #-wait time (stimulus duration)\n",
    "        \n",
    "        #-draw end trial text\n",
    "        #-flip window\n",
    "        #-wait time (stimulus duration)"
   ]
  },
  {
   "cell_type": "markdown",
   "metadata": {},
   "source": [
    "[BACK TO TABLE OF CONTENTS](#toc)"
   ]
  },
  {
   "cell_type": "markdown",
   "metadata": {},
   "source": [
    "## <a id='clock_ex'>Clock exercises</a>"
   ]
  },
  {
   "cell_type": "markdown",
   "metadata": {},
   "source": [
    "1. Create a \"wait_timer\" to find out exactly how long core.wait(2) presents each image. Make sure this is not counting the time of the whole trial, but only the duration of each image. How precise is core.wait? \n",
    "2. Create a \"clock_wait_timer\" to find out exactly how long each image is presented when you use a clock + while loops. How precise is this?\n",
    "3. Create a \"countdown_timer\" to find out exactly how long each image is presented when you use a CountdownTimer + while loops. How precise is this?\n",
    "4. Edit your main experiment script so that the trials loop according to a clock timer. Also create and implement a block_timer and a trial_timer."
   ]
  },
  {
   "cell_type": "markdown",
   "metadata": {},
   "source": [
    "[BACK TO TABLE OF CONTENTS](#toc)"
   ]
  },
  {
   "cell_type": "markdown",
   "metadata": {},
   "source": [
    "## <a id='frame_ex'>Frame-based timing exercises</a>"
   ]
  },
  {
   "cell_type": "markdown",
   "metadata": {},
   "source": [
    "1. Adjust your experiment so that it follows frame-based timing rather than clock timing (comment out the clock-based timing code in case you want to use it again) using for loops and if statements.\n",
    "\n",
    "2. Add a \"dropped frame\" detector to your script to find out whether your experiment is dropping frames. How many total frames are dropped in the experiment? If 20 or fewer frames are dropped in the whole experiment (1 frame per trial), keep frame-based timing in your experiment. Otherwise, switch back to the CountdownTimer."
   ]
  }
 ],
 "metadata": {
  "kernelspec": {
   "display_name": "Python 3",
   "language": "python",
   "name": "python3"
  },
  "language_info": {
   "codemirror_mode": {
    "name": "ipython",
    "version": 3
   },
   "file_extension": ".py",
   "mimetype": "text/x-python",
   "name": "python",
   "nbconvert_exporter": "python",
   "pygments_lexer": "ipython3",
   "version": "3.6.9"
  }
 },
 "nbformat": 4,
 "nbformat_minor": 2
}
