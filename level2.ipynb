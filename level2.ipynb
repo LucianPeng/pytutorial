{
 "cells": [
  {
   "cell_type": "markdown",
   "metadata": {},
   "source": [
    "# Python Tutorial: Level 2"
   ]
  },
  {
   "cell_type": "markdown",
   "metadata": {},
   "source": [
    "### For the OVGU Cognitive Neuroscience Master's course H.3: Projektseminar"
   ]
  },
  {
   "cell_type": "markdown",
   "metadata": {},
   "source": [
    "### Taught by Reshanne Ruhnau"
   ]
  },
  {
   "cell_type": "markdown",
   "metadata": {},
   "source": [
    "I would suggest following this course with the [Spyder environment](https://www.spyder-ide.org/) because it allows you to visualize your work nicely (and it has a familiar design if you are coming from MATLAB)."
   ]
  },
  {
   "cell_type": "markdown",
   "metadata": {},
   "source": [
    "### <a id='toc'>Table of Contents</a>"
   ]
  },
  {
   "cell_type": "markdown",
   "metadata": {},
   "source": [
    "[Level 2: Conditionals and Loops](#level2)\n",
    "- [the \"if\" statement](#if)\n",
    "- [the \"for\" loop](#for)\n",
    "- [the \"while\" loop](#while)\n",
    "\n",
    "[Level 2 Exercises](level2_exercises.ipynb)\n",
    "\n",
    "BACK TO [Level 0: A New Language](python_tutorial.ipynb)\n",
    "<br />BACK TO [Level 1: Manipulating Variables](level1.ipynb)\n",
    "\n",
    "<br />ONWARD TO [Level 3: PsychoPy 101](level3.ipynb)"
   ]
  },
  {
   "cell_type": "markdown",
   "metadata": {},
   "source": [
    "## <a id='level2'>Level 2: Conditionals and Loops</a>"
   ]
  },
  {
   "cell_type": "markdown",
   "metadata": {},
   "source": [
    "A conditional statement can be written with <a id='if'>if</a>. In an experiment, you often want to tell your script \"If we are on trial 1, present X information\", \"If the subject number is odd, do Y\", or \"If the subject pressed this button, record that response\". There are many different reasons for using \"if\" statements. Here is a concrete example: say you have different animal images you want to show in your experiment. You want to tell your experiment if the animal is \"skunk\", only present images from the skunk directory. First, we have to define our animal variable:"
   ]
  },
  {
   "cell_type": "code",
   "execution_count": 1,
   "metadata": {},
   "outputs": [],
   "source": [
    "animal='skunk'"
   ]
  },
  {
   "cell_type": "markdown",
   "metadata": {},
   "source": [
    "Then we can create our \"if\" statement:"
   ]
  },
  {
   "cell_type": "code",
   "execution_count": 2,
   "metadata": {},
   "outputs": [
    {
     "name": "stdout",
     "output_type": "stream",
     "text": [
      "skunk1.png\n"
     ]
    }
   ],
   "source": [
    "if animal == 'skunk':\n",
    "    print(\"skunk1.png\")  "
   ]
  },
  {
   "cell_type": "markdown",
   "metadata": {},
   "source": [
    "\"if\" statements need a certain syntax - first the word \"if\", followed by a Boolean (animal is equal to 'skunk'?), and then a colon : The colon demarcates the end of the \"if\" statement. If the statement is true (yes, animal is equal to 'skunk'), your script will run whatever code is within the \"if\" statement (for lines of code to be counted within the statement, they must be indented)."
   ]
  },
  {
   "cell_type": "markdown",
   "metadata": {},
   "source": [
    "If you write the syntax wrong, you will get various errors. For example, if you forget the colon:"
   ]
  },
  {
   "cell_type": "code",
   "execution_count": 3,
   "metadata": {},
   "outputs": [
    {
     "ename": "SyntaxError",
     "evalue": "invalid syntax (<ipython-input-3-b8e0208e6afc>, line 1)",
     "output_type": "error",
     "traceback": [
      "\u001b[0;36m  File \u001b[0;32m\"<ipython-input-3-b8e0208e6afc>\"\u001b[0;36m, line \u001b[0;32m1\u001b[0m\n\u001b[0;31m    if animal == 'skunk'\u001b[0m\n\u001b[0m                        ^\u001b[0m\n\u001b[0;31mSyntaxError\u001b[0m\u001b[0;31m:\u001b[0m invalid syntax\n"
     ]
    }
   ],
   "source": [
    "if animal == 'skunk'\n",
    "    print(\"skunk1.png\") "
   ]
  },
  {
   "cell_type": "markdown",
   "metadata": {},
   "source": [
    "-it will point you to where the colon should go. If you forget to indent:"
   ]
  },
  {
   "cell_type": "code",
   "execution_count": 4,
   "metadata": {},
   "outputs": [
    {
     "ename": "IndentationError",
     "evalue": "expected an indented block (<ipython-input-4-8f70ea078253>, line 2)",
     "output_type": "error",
     "traceback": [
      "\u001b[0;36m  File \u001b[0;32m\"<ipython-input-4-8f70ea078253>\"\u001b[0;36m, line \u001b[0;32m2\u001b[0m\n\u001b[0;31m    print(\"skunk1.png\")\u001b[0m\n\u001b[0m        ^\u001b[0m\n\u001b[0;31mIndentationError\u001b[0m\u001b[0;31m:\u001b[0m expected an indented block\n"
     ]
    }
   ],
   "source": [
    "if animal == 'skunk':\n",
    "print(\"skunk1.png\")"
   ]
  },
  {
   "cell_type": "markdown",
   "metadata": {},
   "source": [
    "-it will give you a more specific error message. If you assign a variable instead of writing a Boolean:"
   ]
  },
  {
   "cell_type": "code",
   "execution_count": 5,
   "metadata": {},
   "outputs": [
    {
     "ename": "SyntaxError",
     "evalue": "invalid syntax (<ipython-input-5-18a33f630c3e>, line 1)",
     "output_type": "error",
     "traceback": [
      "\u001b[0;36m  File \u001b[0;32m\"<ipython-input-5-18a33f630c3e>\"\u001b[0;36m, line \u001b[0;32m1\u001b[0m\n\u001b[0;31m    if animal = 'skunk':\u001b[0m\n\u001b[0m              ^\u001b[0m\n\u001b[0;31mSyntaxError\u001b[0m\u001b[0;31m:\u001b[0m invalid syntax\n"
     ]
    }
   ],
   "source": [
    "if animal = 'skunk':\n",
    "    print(\"skunk1.png\")"
   ]
  },
  {
   "cell_type": "markdown",
   "metadata": {},
   "source": [
    "-it will point you to where the extra \"=\" should go. \n",
    "\n",
    "<br />If the animal is not \"skunk\", it won't perform the commands within the skunk-specific \"if\" statement:"
   ]
  },
  {
   "cell_type": "code",
   "execution_count": 6,
   "metadata": {},
   "outputs": [],
   "source": [
    "animal='bear'\n",
    "if animal == 'skunk':\n",
    "    print(\"skunk1.png\") "
   ]
  },
  {
   "cell_type": "markdown",
   "metadata": {},
   "source": [
    "The image name didn't print because the animal is now \"bear\", and we didn't tell the script to do anything if the animal is \"bear\". You can assign variables within an \"if\" statement:"
   ]
  },
  {
   "cell_type": "code",
   "execution_count": 7,
   "metadata": {},
   "outputs": [
    {
     "name": "stdout",
     "output_type": "stream",
     "text": [
      "skunk.png\n"
     ]
    }
   ],
   "source": [
    "animal='skunk'\n",
    "if animal == 'skunk':\n",
    "    image='skunk.png'\n",
    "print(image)"
   ]
  },
  {
   "cell_type": "markdown",
   "metadata": {},
   "source": [
    "Defining variables within an \"if\" statement is handy for re-assigning variables on an animal-by-animal basis. Say you want the \"image\" variable to change depending on which animal you want to show:"
   ]
  },
  {
   "cell_type": "code",
   "execution_count": 8,
   "metadata": {},
   "outputs": [
    {
     "name": "stdout",
     "output_type": "stream",
     "text": [
      "bear.png\n"
     ]
    }
   ],
   "source": [
    "animal='bear'\n",
    "if animal == 'skunk':\n",
    "    image='skunk.png'\n",
    "    \n",
    "elif animal == 'bear':\n",
    "    image='bear.png'\n",
    "    \n",
    "print(image)"
   ]
  },
  {
   "cell_type": "markdown",
   "metadata": {},
   "source": [
    "Here we use a second \"if\" statement, \"elif\" (else if). This is written at the same indentation level as the first \"if\" statement (we don't want the \"elif\" statement to be dependent on the animal being a skunk). This group of statements says: If the animal is a skunk, assign the skunk image to the variable \"image\". Else, if the animal is a bear, assign the bear image to the variable \"image\". Finally, print the variable \"image\" to show how it has been reassigned."
   ]
  },
  {
   "cell_type": "markdown",
   "metadata": {},
   "source": [
    "We can also use the \"else\" statement, which is less specific than \"elif\". For example:"
   ]
  },
  {
   "cell_type": "code",
   "execution_count": 9,
   "metadata": {},
   "outputs": [
    {
     "name": "stdout",
     "output_type": "stream",
     "text": [
      "I don't know what to do with this animal!\n"
     ]
    }
   ],
   "source": [
    "animal='duck'\n",
    "if animal == 'skunk':\n",
    "    image='skunk.png'\n",
    "    print(image)\n",
    "    \n",
    "elif animal == 'bear':\n",
    "    image='bear.png'\n",
    "    print(image)\n",
    "\n",
    "else: print(\"I don't know what to do with this animal!\")"
   ]
  },
  {
   "cell_type": "markdown",
   "metadata": {},
   "source": [
    "You could enter anything into the \"animal\" variable and get the output from this \"else\" statement:"
   ]
  },
  {
   "cell_type": "code",
   "execution_count": 10,
   "metadata": {},
   "outputs": [
    {
     "name": "stdout",
     "output_type": "stream",
     "text": [
      "I don't know what to do with this animal!\n"
     ]
    }
   ],
   "source": [
    "animal='lion'\n",
    "if animal == 'skunk':\n",
    "    image='skunk.png'\n",
    "    print(image)\n",
    "    \n",
    "elif animal == 'bear':\n",
    "    image='bear.png'\n",
    "    print(image)\n",
    "\n",
    "else: print(\"I don't know what to do with this animal!\")"
   ]
  },
  {
   "cell_type": "markdown",
   "metadata": {},
   "source": [
    "What \"else\" does, is it runs some bit of code you tell it to, if none of the conditions in the \"if\" statements are met. The animal is not skunk, nor is it bear, it is something else. You would typically add an \"else\" statement with some kind of error message, so you know if you accidentally forgot about a condition or mislabeled something."
   ]
  },
  {
   "cell_type": "code",
   "execution_count": 11,
   "metadata": {},
   "outputs": [
    {
     "name": "stdout",
     "output_type": "stream",
     "text": [
      "I don't know what to do with this animal!\n"
     ]
    }
   ],
   "source": [
    "animal='beer'\n",
    "if animal == 'skunk':\n",
    "    image='skunk.png'\n",
    "    print(image)\n",
    "    \n",
    "elif animal == 'bear':\n",
    "    image='bear.png'\n",
    "    print(image)\n",
    "\n",
    "else: print(\"I don't know what to do with this animal!\")"
   ]
  },
  {
   "cell_type": "markdown",
   "metadata": {},
   "source": [
    "Just like any other Boolean, you can combine statements with \"or\", \"and\", \"and not\":"
   ]
  },
  {
   "cell_type": "code",
   "execution_count": 12,
   "metadata": {},
   "outputs": [
    {
     "name": "stdout",
     "output_type": "stream",
     "text": [
      "This is either a skunk or a duck\n"
     ]
    }
   ],
   "source": [
    "animal='duck'\n",
    "if animal == 'skunk' or animal == 'duck':\n",
    "    print(\"This is either a skunk or a duck\")"
   ]
  },
  {
   "cell_type": "markdown",
   "metadata": {},
   "source": [
    "You can also \"nest\" statements so that certain \"if\" statements are only interpreted if the first \"if\" statement is true:"
   ]
  },
  {
   "cell_type": "code",
   "execution_count": 13,
   "metadata": {},
   "outputs": [
    {
     "name": "stdout",
     "output_type": "stream",
     "text": [
      "This animal is a skunk\n",
      "This skunk has been rolling in the mud\n"
     ]
    }
   ],
   "source": [
    "animal = 'skunk'\n",
    "color = 'brown'\n",
    "\n",
    "if animal == 'duck':\n",
    "    print(\"This animal is a duck\")\n",
    "    if color == 'brown':\n",
    "        print(\"This is a brown duck\")\n",
    "\n",
    "elif animal == 'skunk':\n",
    "    print(\"This animal is a skunk\")\n",
    "    if color == 'brown':\n",
    "        print(\"This skunk has been rolling in the mud\")"
   ]
  },
  {
   "cell_type": "markdown",
   "metadata": {},
   "source": [
    "Nested \"if\" statements require the same syntax as other \"if\" statements, except they must be indented to indicate that they should be interpreted within the correct statement."
   ]
  },
  {
   "cell_type": "markdown",
   "metadata": {},
   "source": [
    "[TO THE CONDITIONAL EXERCISES](#level2_exercises.ipynb#if_ex)\n",
    "\n",
    "[BACK TO TABLE OF CONTENTS](#toc)"
   ]
  },
  {
   "cell_type": "markdown",
   "metadata": {},
   "source": [
    "In an experiment, you want to be able to run the same bit of code over and over (for a number of trials, subjects, etc.). In this case, it's important to know how to use the <a id='for'>for</a> loop, which allows you to \"loop\" back around at the end of a bit of code and run it again however many times you specify. Take the animal example -- if you have three animals you want to show in your experiment, you could write:"
   ]
  },
  {
   "cell_type": "code",
   "execution_count": 14,
   "metadata": {},
   "outputs": [
    {
     "name": "stdout",
     "output_type": "stream",
     "text": [
      "skunk.png\n",
      "bear.png\n",
      "duck.png\n"
     ]
    }
   ],
   "source": [
    "animal='skunk'\n",
    "\n",
    "if animal == 'skunk':\n",
    "    image='skunk.png'\n",
    "    print(image)\n",
    "    \n",
    "elif animal == 'bear':\n",
    "    image='bear.png'\n",
    "    print(image)\n",
    "    \n",
    "elif animal == 'duck':\n",
    "    image='duck.png'\n",
    "    print(image)  \n",
    "    \n",
    "animal='bear'\n",
    "\n",
    "if animal == 'skunk':\n",
    "    image='skunk.png'\n",
    "    print(image)\n",
    "    \n",
    "elif animal == 'bear':\n",
    "    image='bear.png'\n",
    "    print(image)\n",
    "    \n",
    "elif animal == 'duck':\n",
    "    image='duck.png'\n",
    "    print(image)      \n",
    "    \n",
    "animal='duck'\n",
    "\n",
    "if animal == 'skunk':\n",
    "    image='skunk.png'\n",
    "    print(image)\n",
    "    \n",
    "elif animal == 'bear':\n",
    "    image='bear.png'\n",
    "    print(image)\n",
    "    \n",
    "elif animal == 'duck':\n",
    "    image='duck.png'\n",
    "    print(image)       "
   ]
  },
  {
   "cell_type": "markdown",
   "metadata": {},
   "source": [
    "...and you get the three image outputs at the end. But that is a LOT of repeated code for just three lines of output! The for loop can allow you to loop through the different animals specified on just 1 line, to run the same bit of code (the \"if\" statements) three times. Like this:"
   ]
  },
  {
   "cell_type": "code",
   "execution_count": 15,
   "metadata": {},
   "outputs": [
    {
     "name": "stdout",
     "output_type": "stream",
     "text": [
      "skunk.png\n",
      "bear.png\n",
      "duck.png\n"
     ]
    }
   ],
   "source": [
    "animals = ['skunk','bear','duck']\n",
    "\n",
    "for animal in animals:\n",
    "    \n",
    "    if animal == 'skunk':\n",
    "        image='skunk.png'\n",
    "\n",
    "    elif animal == 'bear':\n",
    "        image='bear.png'\n",
    "\n",
    "    elif animal == 'duck':\n",
    "        image='duck.png'\n",
    "    \n",
    "    print(image)"
   ]
  },
  {
   "cell_type": "markdown",
   "metadata": {},
   "source": [
    "This is still a lot of repeated code. As you get more comfortable with using for loops, you will find ways to compress the code even more. Like:"
   ]
  },
  {
   "cell_type": "code",
   "execution_count": 16,
   "metadata": {},
   "outputs": [
    {
     "name": "stdout",
     "output_type": "stream",
     "text": [
      "skunk.png\n",
      "bear.png\n",
      "duck.png\n"
     ]
    }
   ],
   "source": [
    "animals = ['skunk','bear','duck']\n",
    "\n",
    "for animal in animals:\n",
    "    image = animal + '.png' #use a string operation to combine 2 strings\n",
    "    print(image)"
   ]
  },
  {
   "cell_type": "markdown",
   "metadata": {},
   "source": [
    "Here we created a list called \"animals\" outside of the loop. You can loop through each item in the list by using the syntax above: \"for animal in animals\". You create a placedholder label for each word indexed in the list within the for loop with \"animal\". You could also use another indexing label, such as \"index\" or \"i\". It works the same way:"
   ]
  },
  {
   "cell_type": "code",
   "execution_count": 17,
   "metadata": {},
   "outputs": [
    {
     "name": "stdout",
     "output_type": "stream",
     "text": [
      "Using the word index to loop through the animals\n",
      "skunk.png\n",
      "bear.png\n",
      "duck.png\n",
      "Using the letter i to loop through the animals\n",
      "skunk.png\n",
      "bear.png\n",
      "duck.png\n"
     ]
    }
   ],
   "source": [
    "print(\"Using the word index to loop through the animals\")\n",
    "for index in animals:\n",
    "    image = index + '.png'\n",
    "    print(image)\n",
    "\n",
    "print(\"Using the letter i to loop through the animals\")\n",
    "for i in animals:\n",
    "    image = i + '.png'\n",
    "    print(image) "
   ]
  },
  {
   "cell_type": "markdown",
   "metadata": {},
   "source": [
    "The important thing is that you have to refer to to the actual name of the list (animals), but the index label can be whatever you want. \"animal\" is a good index label because it is easy to remember what is contained in the list in this example. Let's try another example that is more relevant for experiments:"
   ]
  },
  {
   "cell_type": "code",
   "execution_count": 18,
   "metadata": {},
   "outputs": [
    {
     "name": "stdout",
     "output_type": "stream",
     "text": [
      "0\n",
      "1\n",
      "2\n",
      "3\n",
      "4\n",
      "5\n",
      "6\n",
      "7\n",
      "8\n",
      "9\n"
     ]
    }
   ],
   "source": [
    "trials = range(10)\n",
    "\n",
    "for trial in trials:\n",
    "    print(trial)"
   ]
  },
  {
   "cell_type": "markdown",
   "metadata": {},
   "source": [
    "Typically in a trial loop within an experiment, you will want to show text or images on each trial. We will get to actually showing images in a trial loop in level3. Until then, we will simply print the name of the picture we want to show on each trial:"
   ]
  },
  {
   "cell_type": "code",
   "execution_count": 19,
   "metadata": {},
   "outputs": [
    {
     "name": "stdout",
     "output_type": "stream",
     "text": [
      "bear.png\n",
      "gopher.png\n",
      "tiger.png\n",
      "rabbit.png\n",
      "owl.png\n"
     ]
    }
   ],
   "source": [
    "import numpy as np #import numpy library\n",
    "\n",
    "animals = ['tiger','rabbit','gopher','bear','owl']\n",
    "\n",
    "np.random.shuffle(animals) #shuffle the order of images shown\n",
    "\n",
    "for animal in animals: #cycle through the shuffled list\n",
    "    image = animal + '.png'\n",
    "    print(image) #in an actual experiment, we would replace the print function with a \"show image\" function\n"
   ]
  },
  {
   "cell_type": "markdown",
   "metadata": {},
   "source": [
    "Furthermore, we usually want to shuffle the order of images for each subject in the experiment. We can do this with a nested for loop - one looping over subjects and one looping over images:"
   ]
  },
  {
   "cell_type": "code",
   "execution_count": 20,
   "metadata": {},
   "outputs": [
    {
     "name": "stdout",
     "output_type": "stream",
     "text": [
      "owl.png\n",
      "gopher.png\n",
      "tiger.png\n",
      "rabbit.png\n",
      "bear.png\n",
      "gopher.png\n",
      "tiger.png\n",
      "bear.png\n",
      "rabbit.png\n",
      "owl.png\n",
      "owl.png\n",
      "bear.png\n",
      "tiger.png\n",
      "gopher.png\n",
      "rabbit.png\n"
     ]
    }
   ],
   "source": [
    "animals = ['tiger','rabbit','gopher','bear','owl']\n",
    "subs = [1,2,3]\n",
    "\n",
    "for sub in subs: #loops through subjects\n",
    "    np.random.shuffle(animals) #shuffle the order of images shown for each subject\n",
    "\n",
    "    for animal in animals: #cycle through the shuffled list\n",
    "        image = animal + '.png'\n",
    "        print(image) #in an actual experiment, we would replace the print function with a \"show image\" function"
   ]
  },
  {
   "cell_type": "markdown",
   "metadata": {},
   "source": [
    "You can see that the list of animals is shuffled for each subject. If yu are unsure about what your code is doing, you can add some notes to yourself to make it easier to interpret the output. Here, you can practice printing looping integers and strings with %i and %s placeholders"
   ]
  },
  {
   "cell_type": "code",
   "execution_count": 21,
   "metadata": {},
   "outputs": [
    {
     "name": "stdout",
     "output_type": "stream",
     "text": [
      "Subject 1\n",
      "Shuffling animals for subject 1\n",
      "Printing owl for subject 1\n",
      "owl.png\n",
      "Printing tiger for subject 1\n",
      "tiger.png\n",
      "Printing bear for subject 1\n",
      "bear.png\n",
      "Printing gopher for subject 1\n",
      "gopher.png\n",
      "Printing rabbit for subject 1\n",
      "rabbit.png\n",
      "Subject 2\n",
      "Shuffling animals for subject 2\n",
      "Printing tiger for subject 2\n",
      "tiger.png\n",
      "Printing rabbit for subject 2\n",
      "rabbit.png\n",
      "Printing bear for subject 2\n",
      "bear.png\n",
      "Printing gopher for subject 2\n",
      "gopher.png\n",
      "Printing owl for subject 2\n",
      "owl.png\n",
      "Subject 3\n",
      "Shuffling animals for subject 3\n",
      "Printing gopher for subject 3\n",
      "gopher.png\n",
      "Printing bear for subject 3\n",
      "bear.png\n",
      "Printing owl for subject 3\n",
      "owl.png\n",
      "Printing tiger for subject 3\n",
      "tiger.png\n",
      "Printing rabbit for subject 3\n",
      "rabbit.png\n"
     ]
    }
   ],
   "source": [
    "animals = ['tiger','rabbit','gopher','bear','owl']\n",
    "subs = [1,2,3]\n",
    "\n",
    "for sub in subs: #loops through subjects\n",
    "    \n",
    "    print(\"Subject %i\" %sub) #insert subject number on this loop using %i\n",
    "    \n",
    "    np.random.shuffle(animals) #shuffle the order of images shown for each subject\n",
    "    \n",
    "    print(\"Shuffling animals for subject %i\" %sub)\n",
    "\n",
    "    for animal in animals: #cycle through the shuffled list\n",
    "        \n",
    "        print(\"Printing %s for subject %i\" %(animal, sub)) #print the string on this loop with %s\n",
    "        \n",
    "        image = animal + '.png'\n",
    "        print(image) #in an actual experiment, we would replace the print function with a \"show image\" function"
   ]
  },
  {
   "cell_type": "markdown",
   "metadata": {},
   "source": [
    "If you would rather know the index value (0,1,2, etc.) instead of the name of the animal, you can add an index counter like this:"
   ]
  },
  {
   "cell_type": "code",
   "execution_count": 22,
   "metadata": {},
   "outputs": [
    {
     "name": "stdout",
     "output_type": "stream",
     "text": [
      "tiger.png\n",
      "This animal has an index of 0\n",
      "rabbit.png\n",
      "This animal has an index of 1\n",
      "gopher.png\n",
      "This animal has an index of 2\n",
      "bear.png\n",
      "This animal has an index of 3\n",
      "owl.png\n",
      "This animal has an index of 4\n"
     ]
    }
   ],
   "source": [
    "animals = ['tiger','rabbit','gopher','bear','owl']\n",
    "\n",
    "count = -1 #start at -1 to start indexing at 0 within the loop\n",
    "\n",
    "for animal in animals:\n",
    "    count = count+1 #every time the loop starts over, add 1 to the count\n",
    "    \n",
    "    image = animal + '.png'\n",
    "    print(image) #in an actual experiment, we would replace the print function with a \"show image\" function\n",
    "    print(\"This animal has an index of %i\" %count)"
   ]
  },
  {
   "cell_type": "markdown",
   "metadata": {},
   "source": [
    "If you want to make sure your counter is working correctly, you can also use \"count\" to print the animal at each index:"
   ]
  },
  {
   "cell_type": "code",
   "execution_count": 23,
   "metadata": {},
   "outputs": [
    {
     "name": "stdout",
     "output_type": "stream",
     "text": [
      "tiger.png\n",
      "This animal is tiger\n",
      "rabbit.png\n",
      "This animal is rabbit\n",
      "gopher.png\n",
      "This animal is gopher\n",
      "bear.png\n",
      "This animal is bear\n",
      "owl.png\n",
      "This animal is owl\n"
     ]
    }
   ],
   "source": [
    "animals = ['tiger','rabbit','gopher','bear','owl']\n",
    "\n",
    "count = -1 #start at -1 to start indexing at 0 within the loop\n",
    "\n",
    "for animal in animals:\n",
    "    count = count+1 #every time the loop starts over, add 1 to the count\n",
    "    \n",
    "    image = animal + '.png'\n",
    "    print(image) #in an actual experiment, we would replace the print function with a \"show image\" function\n",
    "    print(\"This animal is %s\" %animals[count])"
   ]
  },
  {
   "cell_type": "markdown",
   "metadata": {},
   "source": [
    "And that is how you can using indexing in a for loop."
   ]
  },
  {
   "cell_type": "markdown",
   "metadata": {},
   "source": [
    "[TO THE FOR LOOP EXERCISES](#level2_exercises.ipynb#for_ex)\n",
    "\n",
    "[BACK TO TABLE OF CONTENTS](#toc)"
   ]
  },
  {
   "cell_type": "markdown",
   "metadata": {},
   "source": [
    "To use a for loop, you have to specify the number of times the loop should iterate. Sometimes you want to loop indefinitely until a particular state or value is met. For example, in an experiment, you might want to tell the experiment to show an image for a certain amount of time. You can specify an amount of time (in seconds) to show the image (e.g., \"present this image for 5 seconds\"). You have to tell the experiment, \"Once 2 seconds have passed, stop showing the image\". To do this, you can use a <a id='while'>while</a> loop. Here is a simple example to demonstrate how it works:"
   ]
  },
  {
   "cell_type": "code",
   "execution_count": 24,
   "metadata": {},
   "outputs": [
    {
     "name": "stdout",
     "output_type": "stream",
     "text": [
      "Showing an image\n",
      "0\n",
      "Showing an image\n",
      "1\n",
      "Showing an image\n",
      "2\n",
      "Showing an image\n",
      "3\n",
      "Showing an image\n",
      "4\n",
      "Showing an image\n",
      "5\n"
     ]
    }
   ],
   "source": [
    "time_counter = 0 #pretend we are counting up from 0 seconds (the beginning of the experiment)\n",
    "\n",
    "while time_counter < 6: #do something before the counter reaches 6\n",
    "    print(\"Showing an image\")\n",
    "    print(time_counter) #what is the time on the counter?\n",
    "    \n",
    "    time_counter = time_counter +1 #while the loop is still running, add 1 to the counter at the end of the iteration"
   ]
  },
  {
   "cell_type": "markdown",
   "metadata": {},
   "source": [
    "While loops use conditionals (\"while a certain condition is met, do X\"), so the statement requires a boolean of some kind. Your while loop can be any kind of truth statement: \"While X is less than Y\", \"While X == Y\", \"While True\", etc. Sometimes you want to show an image in an experiment until the participant makes a response. You don't know exactly when that will be, so you can use a while loop for that. So to create a simulation of response collection (we will learn how to collect actual responses online in a later level), we will use a random number generator to simulate when the subject decides to make a response:"
   ]
  },
  {
   "cell_type": "code",
   "execution_count": 25,
   "metadata": {},
   "outputs": [
    {
     "name": "stdout",
     "output_type": "stream",
     "text": [
      "8\n"
     ]
    }
   ],
   "source": [
    "import random #import the randomization library\n",
    "print(random.randint(0,10)) #print a random integer between 0 and 10"
   ]
  },
  {
   "cell_type": "markdown",
   "metadata": {},
   "source": [
    "This function outputs a random integer between 0 and 10. Let's say that if the function randomly generates a \"5\", the subject has made a response (just like we don't know when a subject will make a response, we don't know when the number generator will generate a \"5\"). So let's add that to a while loop:"
   ]
  },
  {
   "cell_type": "code",
   "execution_count": 26,
   "metadata": {},
   "outputs": [
    {
     "name": "stdout",
     "output_type": "stream",
     "text": [
      "Showing an image for 1 iterations\n",
      "Showing an image for 2 iterations\n",
      "Showing an image for 3 iterations\n",
      "Showing an image for 4 iterations\n",
      "Showing an image for 5 iterations\n",
      "Showing an image for 6 iterations\n",
      "Showing an image for 7 iterations\n",
      "Showing an image for 8 iterations\n",
      "Showing an image for 9 iterations\n",
      "Showing an image for 10 iterations\n",
      "Showing an image for 11 iterations\n",
      "Showing an image for 12 iterations\n",
      "Showing an image for 13 iterations\n"
     ]
    }
   ],
   "source": [
    "import random #import the randomization library\n",
    "\n",
    "response = False #subject has not made a response yet\n",
    "iteration = 0 #add an iteration counter\n",
    "\n",
    "while not response: #while the subject has not responded (also can be written as \"while response==False\")\n",
    "    iteration = iteration +1\n",
    "    print(\"Showing an image for %i iterations\" %iteration)\n",
    "    \n",
    "    if random.randint(0,10) == 5: #if the generator generates a 5\n",
    "        response=True #subject has made a response"
   ]
  },
  {
   "cell_type": "markdown",
   "metadata": {},
   "source": [
    "If you run this several times, you can see that you get a different number of iterations each time. It is dependent on when the random number generator picks a 5. In the same way you can make the duration of your loop dependent on when a subject makes a response, and it will keep looping indefinitely until the condition is met."
   ]
  },
  {
   "cell_type": "markdown",
   "metadata": {},
   "source": [
    "Sometimes when you run this code, the list of iterations is very long. A while loop will loop indefinitely until a condition is met. If you are not careful, you could accidentally create a loop that never ends. This can even crash your computer. You can implement some failsafes so the loop terminates at some point even if the condition is never met. For example:"
   ]
  },
  {
   "cell_type": "code",
   "execution_count": 27,
   "metadata": {},
   "outputs": [
    {
     "name": "stdout",
     "output_type": "stream",
     "text": [
      "Showing an image for 1 iterations\n",
      "Showing an image for 2 iterations\n",
      "Showing an image for 3 iterations\n",
      "Showing an image for 4 iterations\n",
      "Showing an image for 5 iterations\n",
      "Showing an image for 6 iterations\n",
      "Showing an image for 7 iterations\n",
      "Showing an image for 8 iterations\n",
      "Showing an image for 9 iterations\n",
      "Showing an image for 10 iterations\n",
      "Showing an image for 11 iterations\n",
      "Showing an image for 12 iterations\n",
      "Showing an image for 13 iterations\n",
      "Showing an image for 14 iterations\n",
      "Showing an image for 15 iterations\n",
      "Showing an image for 16 iterations\n",
      "Showing an image for 17 iterations\n",
      "Showing an image for 18 iterations\n",
      "Showing an image for 19 iterations\n",
      "Showing an image for 20 iterations\n"
     ]
    }
   ],
   "source": [
    "import random #import the randomization library\n",
    "\n",
    "response = False #subject has not made a response yet\n",
    "iteration = 0 #add an iteration counter\n",
    "\n",
    "failsafe = -1 #add a failsafe counter so if the subject never responds, terminate the loop anyway\n",
    "\n",
    "while not response: #while the subject has not responded (also can be written as \"while response==False\")\n",
    "    \n",
    "    failsafe = failsafe+1 #every time the loop starts over, add 1 to the counter\n",
    "    if failsafe == 20: #after 20 iterations, if the subject still has not responsed\n",
    "        break #break the loop\n",
    "    \n",
    "    iteration = iteration +1\n",
    "    print(\"Showing an image for %i iterations\" %iteration)\n",
    "    \n",
    "    if random.randint(0,10) == 11: #if the generator generates 11 (this will never happen)\n",
    "        response=True #subject has made a response"
   ]
  },
  {
   "cell_type": "markdown",
   "metadata": {},
   "source": [
    "This will terminate the loop after 20 iterations if the subject has not responded."
   ]
  },
  {
   "cell_type": "markdown",
   "metadata": {},
   "source": [
    "[TO THE WHILE LOOP EXERCISES](#level2_exercises.ipynb#while_ex)\n",
    "\n",
    "[BACK TO TABLE OF CONTENTS](#toc)"
   ]
  }
 ],
 "metadata": {
  "kernelspec": {
   "display_name": "Python 3",
   "language": "python",
   "name": "python3"
  },
  "language_info": {
   "codemirror_mode": {
    "name": "ipython",
    "version": 3
   },
   "file_extension": ".py",
   "mimetype": "text/x-python",
   "name": "python",
   "nbconvert_exporter": "python",
   "pygments_lexer": "ipython3",
   "version": "3.4.2"
  }
 },
 "nbformat": 4,
 "nbformat_minor": 2
}
